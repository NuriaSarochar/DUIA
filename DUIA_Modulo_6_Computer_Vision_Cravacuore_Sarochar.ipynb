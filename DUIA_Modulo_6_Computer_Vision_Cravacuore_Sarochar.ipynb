{
  "nbformat": 4,
  "nbformat_minor": 0,
  "metadata": {
    "colab": {
      "name": "DUIA-Modulo-6-Computer-Vision-Cravacuore-Sarochar.ipynb",
      "provenance": [],
      "collapsed_sections": []
    },
    "kernelspec": {
      "name": "python3",
      "display_name": "Python 3"
    },
    "accelerator": "GPU"
  },
  "cells": [
    {
      "cell_type": "markdown",
      "metadata": {
        "id": "mtoHgr2_XjuQ"
      },
      "source": [
        "# Diplomatura Universitaria en Inteligencia Artificial\n",
        "## Trabajo Práctico del Módulo de Visión Computacional\n",
        "\n",
        "Relizado en conjunto:\n",
        "[Nuria Sarochar](https://www.linkedin.com/in/nuria-sarochar/)\n",
        "y\n",
        "[Damián Cravacuore](https://www.linkedin.com/in/cravacuore/).\n",
        "\n",
        "Noviembre 2020.\n",
        "\n"
      ]
    },
    {
      "cell_type": "markdown",
      "metadata": {
        "id": "BI2fk8IAYD94"
      },
      "source": [
        "### Configuración del ambiente"
      ]
    },
    {
      "cell_type": "code",
      "metadata": {
        "id": "v6k7m-GTaSjN"
      },
      "source": [
        "from google.colab import drive\n",
        "from os import makedirs\n",
        "from os import path\n",
        "\n",
        "import torch\n",
        "import torch.optim as optim\n",
        "import torch.nn as nn\n",
        "import torch.nn.functional as F\n",
        "from torch.utils.data import DataLoader\n",
        "from torchvision import datasets, transforms\n",
        "\n",
        "import numpy as np\n",
        "import matplotlib.pyplot as plt\n",
        "\n",
        "from sklearn.metrics import accuracy_score"
      ],
      "execution_count": null,
      "outputs": []
    },
    {
      "cell_type": "code",
      "metadata": {
        "id": "TBYHC340XgZO",
        "colab": {
          "base_uri": "https://localhost:8080/"
        },
        "outputId": "069b6394-15ff-4e28-90f2-fed2141d0ffa"
      },
      "source": [
        "drive.mount('/content/gdrive/')\n",
        "\n",
        "# carpeta donde van a guardar los datos\n",
        "datasets_folder = '/content/gdrive/My Drive/Colab Notebooks/DUIA/2021/Computer Vision/Grupo 02'\n",
        "makedirs(datasets_folder, exist_ok=True)\n",
        "\n",
        "# NO TOCAR EL CÓDIGO DE ACÁ ABAJO, ES PARA BAJAR DATOS NUEVOS!\n",
        "new_datasets_folder = '/content/gdrive/My Drive/Colab Notebooks/DUIA/2021/Computer Vision/'\n",
        "makedirs(new_datasets_folder, exist_ok=True)\n",
        "!rm /content/gdrive/My\\ Drive/Colab\\ Notebooks/DUIA/2021/Computer\\ Vision/cifar10.1_v4_data.npy*\n",
        "!rm /content/gdrive/My\\ Drive/Colab\\ Notebooks/DUIA/2021/Computer\\ Vision/cifar10.1_v4_labels.npy*\n",
        "!wget --no-check-certificate -P /content/gdrive/My\\ Drive/Colab\\ Notebooks/DUIA/2021/Computer\\ Vision/ https://github.com/modestyachts/CIFAR-10.1/raw/master/datasets/cifar10.1_v4_data.npy\n",
        "!wget --no-check-certificate -P /content/gdrive/My\\ Drive/Colab\\ Notebooks/DUIA/2021/Computer\\ Vision/ https://github.com/modestyachts/CIFAR-10.1/raw/master/datasets/cifar10.1_v4_labels.npy\n",
        "!ls /content/gdrive/My\\ Drive/Colab\\ Notebooks/DUIA/2021/Computer\\ Vision/"
      ],
      "execution_count": null,
      "outputs": [
        {
          "output_type": "stream",
          "name": "stdout",
          "text": [
            "Drive already mounted at /content/gdrive/; to attempt to forcibly remount, call drive.mount(\"/content/gdrive/\", force_remount=True).\n",
            "--2021-11-06 02:14:08--  https://github.com/modestyachts/CIFAR-10.1/raw/master/datasets/cifar10.1_v4_data.npy\n",
            "Resolving github.com (github.com)... 140.82.114.4\n",
            "Connecting to github.com (github.com)|140.82.114.4|:443... connected.\n",
            "HTTP request sent, awaiting response... 302 Found\n",
            "Location: https://raw.githubusercontent.com/modestyachts/CIFAR-10.1/master/datasets/cifar10.1_v4_data.npy [following]\n",
            "--2021-11-06 02:14:08--  https://raw.githubusercontent.com/modestyachts/CIFAR-10.1/master/datasets/cifar10.1_v4_data.npy\n",
            "Resolving raw.githubusercontent.com (raw.githubusercontent.com)... 185.199.108.133, 185.199.109.133, 185.199.110.133, ...\n",
            "Connecting to raw.githubusercontent.com (raw.githubusercontent.com)|185.199.108.133|:443... connected.\n",
            "HTTP request sent, awaiting response... 200 OK\n",
            "Length: 6208640 (5.9M) [application/octet-stream]\n",
            "Saving to: ‘/content/gdrive/My Drive/Colab Notebooks/DUIA/2021/Computer Vision/cifar10.1_v4_data.npy’\n",
            "\n",
            "cifar10.1_v4_data.n 100%[===================>]   5.92M  32.8MB/s    in 0.2s    \n",
            "\n",
            "2021-11-06 02:14:09 (32.8 MB/s) - ‘/content/gdrive/My Drive/Colab Notebooks/DUIA/2021/Computer Vision/cifar10.1_v4_data.npy’ saved [6208640/6208640]\n",
            "\n",
            "--2021-11-06 02:14:09--  https://github.com/modestyachts/CIFAR-10.1/raw/master/datasets/cifar10.1_v4_labels.npy\n",
            "Resolving github.com (github.com)... 140.82.114.4\n",
            "Connecting to github.com (github.com)|140.82.114.4|:443... connected.\n",
            "HTTP request sent, awaiting response... 302 Found\n",
            "Location: https://raw.githubusercontent.com/modestyachts/CIFAR-10.1/master/datasets/cifar10.1_v4_labels.npy [following]\n",
            "--2021-11-06 02:14:09--  https://raw.githubusercontent.com/modestyachts/CIFAR-10.1/master/datasets/cifar10.1_v4_labels.npy\n",
            "Resolving raw.githubusercontent.com (raw.githubusercontent.com)... 185.199.108.133, 185.199.109.133, 185.199.110.133, ...\n",
            "Connecting to raw.githubusercontent.com (raw.githubusercontent.com)|185.199.108.133|:443... connected.\n",
            "HTTP request sent, awaiting response... 200 OK\n",
            "Length: 8212 (8.0K) [application/octet-stream]\n",
            "Saving to: ‘/content/gdrive/My Drive/Colab Notebooks/DUIA/2021/Computer Vision/cifar10.1_v4_labels.npy’\n",
            "\n",
            "cifar10.1_v4_labels 100%[===================>]   8.02K  --.-KB/s    in 0.001s  \n",
            "\n",
            "2021-11-06 02:14:09 (5.74 MB/s) - ‘/content/gdrive/My Drive/Colab Notebooks/DUIA/2021/Computer Vision/cifar10.1_v4_labels.npy’ saved [8212/8212]\n",
            "\n",
            " cifar10.1_v4_data.npy\t cifar10.1_v4_labels.npy  'Grupo 02'\n"
          ]
        }
      ]
    },
    {
      "cell_type": "markdown",
      "metadata": {
        "id": "41z8AUKYYigy"
      },
      "source": [
        "### 1. Acceso a los datos"
      ]
    },
    {
      "cell_type": "code",
      "metadata": {
        "id": "Qn9Tya4PYogi",
        "colab": {
          "base_uri": "https://localhost:8080/"
        },
        "outputId": "55e58051-da2b-4622-8f92-49f5ff2897d8"
      },
      "source": [
        "# Cargamos los datos y sólo lo transformamos a tensores para ver sus tamaños y calcular mean y std.\n",
        "cifar10_training = datasets.CIFAR10(datasets_folder, train=True, download=True, transform=transforms.ToTensor())\n",
        "cifar10_validation = datasets.CIFAR10(datasets_folder, train=False, download=True, transform=transforms.ToTensor())"
      ],
      "execution_count": null,
      "outputs": [
        {
          "output_type": "stream",
          "name": "stdout",
          "text": [
            "Files already downloaded and verified\n",
            "Files already downloaded and verified\n"
          ]
        }
      ]
    },
    {
      "cell_type": "code",
      "metadata": {
        "colab": {
          "base_uri": "https://localhost:8080/"
        },
        "id": "hj0TzfeGYThQ",
        "outputId": "0bcd7071-fdda-4ca4-bc78-ffc2ea038d67"
      },
      "source": [
        "# verificamos tamaños de los grupos\n",
        "print('Training set size: {}'.format(len(cifar10_training)))\n",
        "print('Validation set size: {}'.format(len(cifar10_validation)))\n",
        "\n",
        "data_sample = cifar10_training[0]\n",
        "print(data_sample[0][0].size()) # vemos tamaño de uno de los tensores (de un único canal)"
      ],
      "execution_count": null,
      "outputs": [
        {
          "output_type": "stream",
          "name": "stdout",
          "text": [
            "Training set size: 50000\n",
            "Validation set size: 10000\n",
            "torch.Size([32, 32])\n"
          ]
        }
      ]
    },
    {
      "cell_type": "code",
      "metadata": {
        "colab": {
          "base_uri": "https://localhost:8080/"
        },
        "id": "Ro-6wn50iBZL",
        "outputId": "d2d9d7de-d180-4999-d28b-f23e2056819f"
      },
      "source": [
        "# normalización\n",
        "imgs = torch.stack([img_t for img_t, _ in cifar10_training], dim=3)\n",
        "print(imgs.shape)\n",
        "\n",
        "print(imgs.view(3, -1).size())\n",
        "\n",
        "# calculamos la media de cada canal\n",
        "mean = imgs.view(3, -1).mean(dim=1)\n",
        "print(mean)\n",
        "\n",
        "# y el desvío\n",
        "std = imgs.view(3, -1).std(dim=1)\n",
        "print(std)"
      ],
      "execution_count": null,
      "outputs": [
        {
          "output_type": "stream",
          "name": "stdout",
          "text": [
            "torch.Size([3, 32, 32, 50000])\n",
            "torch.Size([3, 51200000])\n",
            "tensor([0.4914, 0.4822, 0.4465])\n",
            "tensor([0.2470, 0.2435, 0.2616])\n"
          ]
        }
      ]
    },
    {
      "cell_type": "code",
      "metadata": {
        "colab": {
          "base_uri": "https://localhost:8080/"
        },
        "id": "-5XRntHxjVh6",
        "outputId": "d87155e0-5b5f-417a-8e4a-db21bce3b87e"
      },
      "source": [
        "list_of_training_transformations = [transforms.ToTensor(),\n",
        "                                    transforms.Normalize(mean=mean, std=std)]\n",
        "list_of_test_transformations = [transforms.ToTensor(),\n",
        "                                transforms.Normalize(mean=mean, std=std)]\n",
        "\n",
        "training_transformations = transforms.Compose(list_of_training_transformations)\n",
        "test_transformations = transforms.Compose(list_of_test_transformations)\n",
        "\n",
        "# descargamos los datos de entrenamiento (o los levantamos, si ya están ahí)\n",
        "cifar10_training = datasets.CIFAR10(datasets_folder, train=True, download=True, transform=training_transformations)\n",
        "# hacemos lo mismo con los de test (que los vamos a usar de datos de validación)\n",
        "cifar10_validation = datasets.CIFAR10(datasets_folder, train=False, download=True, transform=test_transformations)\n",
        "\n",
        "# creamos los data loaders\n",
        "training_loader = DataLoader(cifar10_training, batch_size=32, shuffle=True)\n",
        "validation_loader = DataLoader(cifar10_validation, batch_size=32, shuffle=False)"
      ],
      "execution_count": null,
      "outputs": [
        {
          "output_type": "stream",
          "name": "stdout",
          "text": [
            "Files already downloaded and verified\n",
            "Files already downloaded and verified\n"
          ]
        }
      ]
    },
    {
      "cell_type": "markdown",
      "metadata": {
        "id": "TsNXiuEKYoyx"
      },
      "source": [
        "### 2. Implementación de red neuronal convolucional"
      ]
    },
    {
      "cell_type": "code",
      "metadata": {
        "id": "rCdjFAb0Ytbg"
      },
      "source": [
        "class OurNetcita(nn.Module):\n",
        "  '''\n",
        "  Clase que implementa una arquitectura de red neuronal para el problema de \n",
        "  clasificación de imágenes en 10 clases usando datos de CIFAR10\n",
        "  '''\n",
        "\n",
        "  def __init__(self):\n",
        "    '''\n",
        "    Constructor de la clase\n",
        "    '''\n",
        "    super().__init__()\n",
        "    \n",
        "    self.conv1 = nn.Conv2d(3, 16, kernel_size=3, padding=1, bias=False)\n",
        "    self.batch_norm_conv1 = nn.BatchNorm2d(num_features=16)\n",
        "    self.conv2 = nn.Conv2d(16, 32, kernel_size=3, padding=1, bias=False)\n",
        "    self.batch_norm_conv2 = nn.BatchNorm2d(num_features=32)\n",
        "    self.conv3 = nn.Conv2d(32, 64, kernel_size=3, padding=1, bias=False)\n",
        "    self.batch_norm_conv3 = nn.BatchNorm2d(num_features=64)\n",
        "\n",
        "    self.fc1 = nn.Linear(64 * 4 * 4, 32, bias = False)\n",
        "    self.batch_norm_fc1 = nn.BatchNorm1d(num_features=32)\n",
        "    # y de esas 32 features generaremos 10 scores\n",
        "    self.fc2 = nn.Linear(32, 10)\n",
        "    # capa softmax para obtener probabilidades\n",
        "    self.final_activation = nn.Softmax(dim=1)\n",
        "\n",
        "\n",
        "  def forward(self, inputs):\n",
        "    '''\n",
        "    Método que implementa el forward pass\n",
        "    '''\n",
        "    out = F.max_pool2d(F.leaky_relu(self.batch_norm_conv1(self.conv1(inputs))), 2)\n",
        "    out = F.max_pool2d(F.leaky_relu(self.batch_norm_conv2(self.conv2(out))), 2)\n",
        "    out = F.max_pool2d(F.leaky_relu(self.batch_norm_conv3(self.conv3(out))), 2)\n",
        "    # convertimos el activamos map en un vector\n",
        "    out = out.view(-1, 64 * 4 * 4)\n",
        "    # primera capa fully connected y función de activación\n",
        "    out = F.leaky_relu(self.batch_norm_fc1(self.fc1(out)))\n",
        "    out = F.dropout(out, p=0.05)\n",
        "    # última capa\n",
        "    out = self.fc2(out)\n",
        "    return out\n",
        "\n",
        "\n",
        "  def predict(self, inputs):\n",
        "    # devolvemos el softmax de los resultados\n",
        "    return self.final_activation(self.__call__(inputs))"
      ],
      "execution_count": null,
      "outputs": []
    },
    {
      "cell_type": "markdown",
      "metadata": {
        "id": "hanAqSPa-rVG"
      },
      "source": [
        "### Algunas funciones auxiliares"
      ]
    },
    {
      "cell_type": "code",
      "metadata": {
        "id": "qxKqKrtQwJkO"
      },
      "source": [
        "def get_num_parameters(model):\n",
        "  '''\n",
        "  Nos devuelve una lista con la cantidad de parámetros entrenables de un modelo\n",
        "  '''\n",
        "  numel_list = [p.numel()\n",
        "                for p in model.parameters()\n",
        "                if p.requires_grad == True]\n",
        "\n",
        "  return numel_list\n",
        "\n",
        "def print_model_parameters_amount(model):\n",
        "  '''\n",
        "  Imprime cantidad de parámetros con algunos separadores para destacarlo\n",
        "  '''\n",
        "  print(\"  \")\n",
        "  print(\"  \")\n",
        "  print(\"============ Número de parámetros ===============\")\n",
        "  numel_list = get_num_parameters(model)\n",
        "  # imprimimos el número total de capas\n",
        "  print(sum(numel_list), numel_list)\n",
        "  print(\"=================================================\")\n",
        "  print(\"  \")\n",
        "\n",
        "def get_device():\n",
        "  return torch.device(\"cuda:0\" if torch.cuda.is_available() else \"cpu\")\n",
        "\n",
        "def print_running_device():\n",
        "  gpu_name = torch.cuda.get_device_name(0) if torch.cuda.is_available() else \"\"\n",
        "  print(f'======== Running in {device} - {gpu_name} ========')"
      ],
      "execution_count": null,
      "outputs": []
    },
    {
      "cell_type": "markdown",
      "metadata": {
        "id": "W3yvbVYzYtxs"
      },
      "source": [
        "### 3. Entrenamiento y validación de la red"
      ]
    },
    {
      "cell_type": "code",
      "metadata": {
        "id": "u4W-6YOuRCYE",
        "colab": {
          "base_uri": "https://localhost:8080/"
        },
        "outputId": "9217c188-2acc-415e-893d-f7e5ba01240e"
      },
      "source": [
        "device = get_device()\n",
        "print_running_device()\n",
        "\n",
        "model = OurNetcita()\n",
        "print_model_parameters_amount(model)\n",
        "\n",
        "loss_fn = nn.CrossEntropyLoss()\n",
        "learning_rate = 1e-2\n",
        "n_epochs = 50\n",
        "\n",
        "# movemos todo lo que haga falta a la GPU\n",
        "model = model.to(device)\n",
        "loss_fn = loss_fn.to(device)\n",
        "\n",
        "# -----------------\n",
        "# TRAINING LOOP\n",
        "# -----------------\n",
        "\n",
        "# inicializamos listas para guardar los valores de loss function de entrenamiento\n",
        "# y validación, además del accuracy sobre los mismos.\n",
        "per_epoch_training_loss_values       = np.zeros(n_epochs)\n",
        "per_epoch_training_accuracy_values   = np.zeros(n_epochs)\n",
        "per_epoch_validation_loss_values     = np.zeros(n_epochs)\n",
        "per_epoch_validation_accuracy_values = np.zeros(n_epochs)\n",
        "\n",
        "\n",
        "for epoch in range(n_epochs):\n",
        "  if (((epoch % 10 ) == 0) & (epoch != 0)):\n",
        "    learning_rate = learning_rate * 0.1\n",
        "    print(f'Learning Rate = {learning_rate}')\n",
        "  optimizer = optim.SGD(model.parameters(), lr=learning_rate, weight_decay=1e-3)\n",
        "  # ponemos el modelo en modo entrenamiento\n",
        "  model.train()\n",
        "\n",
        "  # inicializamos una lista para ir guardando los valores de loss por batch\n",
        "  training_loss_values = np.zeros(len(training_loader))\n",
        "  \n",
        "  # iteramos por cada batch\n",
        "  i=0\n",
        "  total_train = 0\n",
        "  correct_train = 0\n",
        "  for imgs, labels in training_loader:\n",
        "    imgs = imgs.to(device)\n",
        "    labels = labels.view(-1).to(device)\n",
        "    # obtenemos la respuesta del modelo\n",
        "    outputs = model(imgs)\n",
        "    # calculamos la loss\n",
        "    loss = loss_fn(outputs, labels)\n",
        "    # mandamos a 0 los gradientes\n",
        "    optimizer.zero_grad()\n",
        "    # hacemos un backward pass\n",
        "    loss.backward()\n",
        "    # y un paso del optimizador para actualizar los parámetros\n",
        "    optimizer.step()\n",
        "    # registramos el valor de la loss\n",
        "    training_loss_values[i]=float(loss.cpu())\n",
        "    i=i+1\n",
        "    \n",
        "    # le aplicamos la activation function a las salidas para obtener scores\n",
        "    scores = model.final_activation(outputs)\n",
        "    # obtenemos la predicción de la clase\n",
        "    _, predicted = torch.max(scores.cpu(), dim=1)\n",
        "    labels = labels.cpu()\n",
        "    total_train += labels.shape[0]\n",
        "    correct_train += int((predicted == labels).sum())\n",
        "\n",
        "\n",
        "  # VALIDACIÓN\n",
        "  # lo ponemos en modo evaluación\n",
        "  model.eval()\n",
        "\n",
        "  # inicializamos una lista para guardar los valores de loss por batch en los \n",
        "  # datos de validación\n",
        "  validation_loss_values = np.zeros(len(validation_loader))\n",
        "  # y dos variables para medir la cantidad de muestras totales y la cantidad de\n",
        "  # aciertos\n",
        "  total_val   = 0\n",
        "  correct_val = 0\n",
        "\n",
        "  # no vamos a calcular gradientes\n",
        "  with torch.no_grad():\n",
        "    # iteramos por cada batch\n",
        "    i=0\n",
        "    for imgs, labels in validation_loader:\n",
        "      # pasamos imágenes y labels al dispositivo donde estemos corriendo\n",
        "      imgs = imgs.to(device)\n",
        "      labels = labels.view(-1).to(device)\n",
        "      # obtenemos la respuesta del modelo\n",
        "      outputs = model(imgs)\n",
        "      # calculamos la loss\n",
        "      loss = loss_fn(outputs, labels)\n",
        "      # registramos el valor de la loss\n",
        "      validation_loss_values[i]=float(loss.cpu())\n",
        "      i=i+1\n",
        "      # le aplicamos la activation function a las salidas para obtener scores\n",
        "      scores = model.final_activation(outputs)\n",
        "      # obtenemos la predicción de la clase\n",
        "      _, predicted = torch.max(scores.cpu(), dim=1)\n",
        "      labels = labels.cpu()\n",
        "      total_val += labels.shape[0]\n",
        "      correct_val += int((predicted == labels).sum())\n",
        "\n",
        "  # actualizamos las estadísticas\n",
        "  per_epoch_training_loss_values[epoch]       = np.mean(training_loss_values)\n",
        "  per_epoch_training_accuracy_values[epoch]   = correct_train / total_train\n",
        "  per_epoch_validation_loss_values[epoch]     = np.mean(validation_loss_values)\n",
        "  per_epoch_validation_accuracy_values[epoch] = correct_val / total_val\n",
        "  \n",
        "  if (epoch % 5) == 0:\n",
        "    print('Epoch: {}'.format(epoch+1))\n",
        "    print('- Training loss: {:.4f}'.format(per_epoch_training_loss_values[epoch]))\n",
        "    print('- Validation loss: {:.4f}'.format(per_epoch_validation_loss_values[epoch]))\n",
        "    print('- Validation accuracy: {:.4f}'.format(per_epoch_validation_accuracy_values[epoch]))"
      ],
      "execution_count": null,
      "outputs": [
        {
          "output_type": "stream",
          "name": "stdout",
          "text": [
            "======== Running in cuda:0 - Tesla K80 ========\n",
            "  \n",
            "  \n",
            "============ Número de parámetros ===============\n",
            "56858 [432, 16, 16, 4608, 32, 32, 18432, 64, 64, 32768, 32, 32, 320, 10]\n",
            "=================================================\n",
            "  \n",
            "Epoch: 1\n",
            "- Training loss: 1.4924\n",
            "- Validation loss: 1.1785\n",
            "- Validation accuracy: 0.5953\n",
            "Epoch: 6\n",
            "- Training loss: 0.7545\n",
            "- Validation loss: 0.8713\n",
            "- Validation accuracy: 0.6950\n",
            "Learning Rate = 0.001\n",
            "Epoch: 11\n",
            "- Training loss: 0.5236\n",
            "- Validation loss: 0.7358\n",
            "- Validation accuracy: 0.7453\n",
            "Epoch: 16\n",
            "- Training loss: 0.4667\n",
            "- Validation loss: 0.7403\n",
            "- Validation accuracy: 0.7470\n",
            "Learning Rate = 0.0001\n",
            "Epoch: 21\n",
            "- Training loss: 0.4317\n",
            "- Validation loss: 0.7430\n",
            "- Validation accuracy: 0.7471\n",
            "Epoch: 26\n",
            "- Training loss: 0.4275\n",
            "- Validation loss: 0.7463\n",
            "- Validation accuracy: 0.7439\n",
            "Learning Rate = 1e-05\n",
            "Epoch: 31\n",
            "- Training loss: 0.4223\n",
            "- Validation loss: 0.7424\n",
            "- Validation accuracy: 0.7487\n",
            "Epoch: 36\n",
            "- Training loss: 0.4206\n",
            "- Validation loss: 0.7509\n",
            "- Validation accuracy: 0.7456\n",
            "Learning Rate = 1.0000000000000002e-06\n",
            "Epoch: 41\n",
            "- Training loss: 0.4184\n",
            "- Validation loss: 0.7492\n",
            "- Validation accuracy: 0.7471\n",
            "Epoch: 46\n",
            "- Training loss: 0.4227\n",
            "- Validation loss: 0.7451\n",
            "- Validation accuracy: 0.7480\n"
          ]
        }
      ]
    },
    {
      "cell_type": "markdown",
      "metadata": {
        "id": "sv7RwmDHbvVa"
      },
      "source": [
        "# Gráficos de estadísticas"
      ]
    },
    {
      "cell_type": "code",
      "metadata": {
        "id": "FZb7l2oSbtwy",
        "colab": {
          "base_uri": "https://localhost:8080/",
          "height": 259
        },
        "outputId": "9f936381-9019-40f5-bbd3-e59486b86189"
      },
      "source": [
        "# creamos plots para la loss y el accuracy\n",
        "fig, axes = plt.subplots(1, 2)\n",
        "# graficamos la evolución de la loss de entrenamiento y la de validación\n",
        "axes[0].plot(per_epoch_training_loss_values, color='blue')\n",
        "axes[0].plot(per_epoch_validation_loss_values, color='red')\n",
        "axes[0].set_xlabel('Epochs')\n",
        "axes[0].set_ylabel('Cross entropy loss')\n",
        "axes[0].grid(True)\n",
        "axes[0].legend(['Training set', 'Validation set'])\n",
        "axes[0].set_title('Loss function')\n",
        "# graficamos la evolución del accuracy\n",
        "axes[1].plot(per_epoch_validation_accuracy_values, color='red')\n",
        "axes[1].plot(per_epoch_training_accuracy_values, color='blue')\n",
        "axes[1].set_xlabel('Epochs')\n",
        "axes[1].set_ylabel('Accuracy')\n",
        "axes[1].grid(True)\n",
        "axes[1].set_title('Accuracy')\n",
        "axes[1].set_ylim([0, 1.0])\n",
        "fig.tight_layout(pad=3.0)"
      ],
      "execution_count": null,
      "outputs": [
        {
          "output_type": "display_data",
          "data": {
            "image/png": "[encoded data removed]",
            "text/plain": [
              "<Figure size 432x288 with 2 Axes>"
            ]
          },
          "metadata": {
            "needs_background": "light"
          }
        }
      ]
    },
    {
      "cell_type": "markdown",
      "metadata": {
        "id": "UwjAN8zcRC8K"
      },
      "source": [
        "### 4. Evaluación sobre nuevos datos"
      ]
    },
    {
      "cell_type": "code",
      "metadata": {
        "id": "XQdy_3S0SFzl",
        "colab": {
          "base_uri": "https://localhost:8080/"
        },
        "outputId": "d116a233-66dc-4260-802a-c35a12c88b60"
      },
      "source": [
        "# accedemos a los datos\n",
        "images = np.load(path.join(new_datasets_folder, 'cifar10.1_v4_data.npy'))\n",
        "labels = np.load(path.join(new_datasets_folder, 'cifar10.1_v4_labels.npy'))\n",
        "# imprimimos los tamaños\n",
        "print(images.shape)\n",
        "print(labels.shape)"
      ],
      "execution_count": null,
      "outputs": [
        {
          "output_type": "stream",
          "name": "stdout",
          "text": [
            "(2021, 32, 32, 3)\n",
            "(2021,)\n"
          ]
        }
      ]
    },
    {
      "cell_type": "code",
      "metadata": {
        "id": "R3v4DlgYhNGy",
        "colab": {
          "base_uri": "https://localhost:8080/"
        },
        "outputId": "6a6a3432-fe8a-4af7-f0b9-b766ec36c2e2"
      },
      "source": [
        "model = model.eval()\n",
        "N = images.shape[0]\n",
        "predictions = torch.zeros(N, dtype=torch.uint8)\n",
        "with torch.no_grad():\n",
        "  for i, image in enumerate(images):\n",
        "    image_tensor = test_transformations(image).unsqueeze(0).to(device)\n",
        "    raw = model.predict(image_tensor.float())\n",
        "    pred_tmp = torch.argmax(raw).cpu().item()\n",
        "    predictions[i] = pred_tmp\n",
        "\n",
        "predictions_list = predictions.tolist()\n",
        "\n",
        "accuracy = accuracy_score(labels, predictions_list)\n",
        "print(f'Test data accuracy: {accuracy}')"
      ],
      "execution_count": null,
      "outputs": [
        {
          "output_type": "stream",
          "name": "stdout",
          "text": [
            "Test data accuracy: 0.599208312716477\n"
          ]
        }
      ]
    },
    {
      "cell_type": "code",
      "metadata": {
        "id": "OEc8Ig9oiABg"
      },
      "source": [
        "# guardamos los parámetros del modelo\n",
        "torch.save(model.state_dict(), path.join(datasets_folder, 'vfinal.pt'))"
      ],
      "execution_count": null,
      "outputs": []
    },
    {
      "cell_type": "markdown",
      "metadata": {
        "id": "kVWPOEUwV7gP"
      },
      "source": [
        "### Conclusiones\n",
        "\n",
        "El modelo actualmente presentado es un modelo que todavía podría aprender, le faltan parámetros para ello. En una próxima implementación podría modificarse de forma tal que la cantidad de parámetros sea mayor, como quitanto el primer max pooling.\n",
        "\n"
      ]
    }
  ]
}