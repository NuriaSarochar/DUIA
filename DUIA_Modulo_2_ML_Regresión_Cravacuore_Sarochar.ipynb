{
  "nbformat": 4,
  "nbformat_minor": 0,
  "metadata": {
    "colab": {
      "name": "DUIA-Modulo-2-ML-Regresión-Cravacuore-Sarochar.ipynb",
      "provenance": [],
      "collapsed_sections": []
    },
    "kernelspec": {
      "name": "python3",
      "display_name": "Python 3"
    },
    "language_info": {
      "name": "python"
    }
  },
  "cells": [
    {
      "cell_type": "markdown",
      "metadata": {
        "id": "eWd208MVA-UV"
      },
      "source": [
        "# Diplomatura Universitaria en Inteligencia Artificial\n",
        "## Trabajo Práctico del Módulo de Aprendizaje Automático \n",
        "\n",
        "Relizado en conjunto:\n",
        "[Nuria Sarochar](https://www.linkedin.com/in/nuria-sarochar/)\n",
        "y\n",
        "[Damián Cravacuore](https://www.linkedin.com/in/cravacuore/).\n",
        "\n",
        "Junio 2020."
      ]
    },
    {
      "cell_type": "markdown",
      "metadata": {
        "id": "d29oZkyqVP1d"
      },
      "source": [
        "# Imports"
      ]
    },
    {
      "cell_type": "code",
      "metadata": {
        "id": "umUlrG54VR3d"
      },
      "source": [
        "import pandas as pd\n",
        "import numpy as np\n",
        "import seaborn as sns\n",
        "import matplotlib.pyplot as plt\n",
        "\n",
        "from sklearn.linear_model import LinearRegression, Ridge\n",
        "from sklearn.ensemble import GradientBoostingRegressor, RandomForestRegressor\n",
        "from sklearn.metrics import mean_squared_error\n",
        "from sklearn.preprocessing import StandardScaler\n",
        "from sklearn.compose import ColumnTransformer\n",
        "from sklearn.model_selection import train_test_split, RandomizedSearchCV"
      ],
      "execution_count": 5,
      "outputs": []
    },
    {
      "cell_type": "markdown",
      "metadata": {
        "id": "uVy0VMfkVTsy"
      },
      "source": [
        "# Análisis exploratorio de datos"
      ]
    },
    {
      "cell_type": "markdown",
      "metadata": {
        "id": "6nq-DiQ8Xgku"
      },
      "source": [
        "## Lectura de dato\n",
        "\n",
        "Importamos dataset de [Insurance](https://www.kaggle.com/mirichoi0218/insurance).\n",
        "\n",
        "Este es un dataset de seguro médico. La idea es poder predecir cuánto será el costo anual que tendrá un seguro médico basado en características de los asegurados."
      ]
    },
    {
      "cell_type": "code",
      "metadata": {
        "id": "S0nnHdPYSeDI",
        "colab": {
          "base_uri": "https://localhost:8080/",
          "height": 397
        },
        "outputId": "bc24d069-8b2e-42d1-9e67-d8872336b85a"
      },
      "source": [
        "csv_file_url='https://drive.google.com/uc?id=18ya0mOAjks3wNVPh8_MZUw4qp_-hyoCx'\n",
        "original_data = pd.read_csv(csv_file_url)\n",
        "\n",
        "data = original_data.copy()\n",
        "print(data.head())\n",
        "data.describe()"
      ],
      "execution_count": 6,
      "outputs": [
        {
          "output_type": "stream",
          "name": "stdout",
          "text": [
            "   age     sex     bmi  children smoker     region      charges\n",
            "0   19  female  27.900         0    yes  southwest  16884.92400\n",
            "1   18    male  33.770         1     no  southeast   1725.55230\n",
            "2   28    male  33.000         3     no  southeast   4449.46200\n",
            "3   33    male  22.705         0     no  northwest  21984.47061\n",
            "4   32    male  28.880         0     no  northwest   3866.85520\n"
          ]
        },
        {
          "output_type": "execute_result",
          "data": {
            "text/html": [
              "<div>\n",
              "<style scoped>\n",
              "    .dataframe tbody tr th:only-of-type {\n",
              "        vertical-align: middle;\n",
              "    }\n",
              "\n",
              "    .dataframe tbody tr th {\n",
              "        vertical-align: top;\n",
              "    }\n",
              "\n",
              "    .dataframe thead th {\n",
              "        text-align: right;\n",
              "    }\n",
              "</style>\n",
              "<table border=\"1\" class=\"dataframe\">\n",
              "  <thead>\n",
              "    <tr style=\"text-align: right;\">\n",
              "      <th></th>\n",
              "      <th>age</th>\n",
              "      <th>bmi</th>\n",
              "      <th>children</th>\n",
              "      <th>charges</th>\n",
              "    </tr>\n",
              "  </thead>\n",
              "  <tbody>\n",
              "    <tr>\n",
              "      <th>count</th>\n",
              "      <td>1338.000000</td>\n",
              "      <td>1338.000000</td>\n",
              "      <td>1338.000000</td>\n",
              "      <td>1338.000000</td>\n",
              "    </tr>\n",
              "    <tr>\n",
              "      <th>mean</th>\n",
              "      <td>39.207025</td>\n",
              "      <td>30.663397</td>\n",
              "      <td>1.094918</td>\n",
              "      <td>13270.422265</td>\n",
              "    </tr>\n",
              "    <tr>\n",
              "      <th>std</th>\n",
              "      <td>14.049960</td>\n",
              "      <td>6.098187</td>\n",
              "      <td>1.205493</td>\n",
              "      <td>12110.011237</td>\n",
              "    </tr>\n",
              "    <tr>\n",
              "      <th>min</th>\n",
              "      <td>18.000000</td>\n",
              "      <td>15.960000</td>\n",
              "      <td>0.000000</td>\n",
              "      <td>1121.873900</td>\n",
              "    </tr>\n",
              "    <tr>\n",
              "      <th>25%</th>\n",
              "      <td>27.000000</td>\n",
              "      <td>26.296250</td>\n",
              "      <td>0.000000</td>\n",
              "      <td>4740.287150</td>\n",
              "    </tr>\n",
              "    <tr>\n",
              "      <th>50%</th>\n",
              "      <td>39.000000</td>\n",
              "      <td>30.400000</td>\n",
              "      <td>1.000000</td>\n",
              "      <td>9382.033000</td>\n",
              "    </tr>\n",
              "    <tr>\n",
              "      <th>75%</th>\n",
              "      <td>51.000000</td>\n",
              "      <td>34.693750</td>\n",
              "      <td>2.000000</td>\n",
              "      <td>16639.912515</td>\n",
              "    </tr>\n",
              "    <tr>\n",
              "      <th>max</th>\n",
              "      <td>64.000000</td>\n",
              "      <td>53.130000</td>\n",
              "      <td>5.000000</td>\n",
              "      <td>63770.428010</td>\n",
              "    </tr>\n",
              "  </tbody>\n",
              "</table>\n",
              "</div>"
            ],
            "text/plain": [
              "               age          bmi     children       charges\n",
              "count  1338.000000  1338.000000  1338.000000   1338.000000\n",
              "mean     39.207025    30.663397     1.094918  13270.422265\n",
              "std      14.049960     6.098187     1.205493  12110.011237\n",
              "min      18.000000    15.960000     0.000000   1121.873900\n",
              "25%      27.000000    26.296250     0.000000   4740.287150\n",
              "50%      39.000000    30.400000     1.000000   9382.033000\n",
              "75%      51.000000    34.693750     2.000000  16639.912515\n",
              "max      64.000000    53.130000     5.000000  63770.428010"
            ]
          },
          "metadata": {},
          "execution_count": 6
        }
      ]
    },
    {
      "cell_type": "markdown",
      "metadata": {
        "id": "MNF-ybDeX1rE"
      },
      "source": [
        "Visualizamos la estructura del dataset, y sus características estadísticas generales."
      ]
    },
    {
      "cell_type": "markdown",
      "metadata": {
        "id": "by8ewdssW1Hv"
      },
      "source": [
        "## Observamos si hay datos faltantes"
      ]
    },
    {
      "cell_type": "code",
      "metadata": {
        "colab": {
          "base_uri": "https://localhost:8080/"
        },
        "id": "0oCgAeuZW320",
        "outputId": "13df7f8d-1b45-4620-8019-b2976d3b6702"
      },
      "source": [
        "data.info()"
      ],
      "execution_count": 7,
      "outputs": [
        {
          "output_type": "stream",
          "name": "stdout",
          "text": [
            "<class 'pandas.core.frame.DataFrame'>\n",
            "RangeIndex: 1338 entries, 0 to 1337\n",
            "Data columns (total 7 columns):\n",
            " #   Column    Non-Null Count  Dtype  \n",
            "---  ------    --------------  -----  \n",
            " 0   age       1338 non-null   int64  \n",
            " 1   sex       1338 non-null   object \n",
            " 2   bmi       1338 non-null   float64\n",
            " 3   children  1338 non-null   int64  \n",
            " 4   smoker    1338 non-null   object \n",
            " 5   region    1338 non-null   object \n",
            " 6   charges   1338 non-null   float64\n",
            "dtypes: float64(2), int64(2), object(3)\n",
            "memory usage: 73.3+ KB\n"
          ]
        }
      ]
    },
    {
      "cell_type": "markdown",
      "metadata": {
        "id": "nADpO9VNW7Bh"
      },
      "source": [
        "Observando la información dada sobre el dataset, vemos que no hay datos faltantes en ninguna columna."
      ]
    },
    {
      "cell_type": "markdown",
      "metadata": {
        "id": "GAynWDAPngRP"
      },
      "source": [
        "Visualizamos boxplots para encontrar outliers. Primero entre las columnas smoker y charges, y luego entre children y charges."
      ]
    },
    {
      "cell_type": "code",
      "metadata": {
        "colab": {
          "base_uri": "https://localhost:8080/",
          "height": 296
        },
        "id": "vW1zpK3OqzZf",
        "outputId": "0358ded3-71aa-43a6-d575-0e297c5d1b3a"
      },
      "source": [
        "sns.boxplot(data = data, x = 'smoker', y = 'charges')"
      ],
      "execution_count": 8,
      "outputs": [
        {
          "output_type": "execute_result",
          "data": {
            "text/plain": [
              "<matplotlib.axes._subplots.AxesSubplot at 0x7f3dbd5492d0>"
            ]
          },
          "metadata": {},
          "execution_count": 8
        },
        {
          "output_type": "display_data",
          "data": {
            "image/png": "[encoded data removed]",
            "text/plain": [
              "<Figure size 432x288 with 1 Axes>"
            ]
          },
          "metadata": {
            "needs_background": "light"
          }
        }
      ]
    },
    {
      "cell_type": "markdown",
      "metadata": {
        "id": "UZnA-kJxaiS8"
      },
      "source": [
        "Graficamos la distribución de 'charges' sobre fumadores y no fumadores. Podemos visualizar que para los fumadores la media y los percentiles del 75 y 25 son mucho mayores que para los no fumadores y por lo tanto los costos son mayores. Además para los no fumadores vemos una gran cantidad de *outliers*. Estos outliers los eliminamos ya que no sabemos a qué se deben, si a clientes que fueron mal cobrados o más cargados al dataset."
      ]
    },
    {
      "cell_type": "code",
      "metadata": {
        "id": "HCL-Lg65YlDZ"
      },
      "source": [
        "# Eliminamos los outliers\n",
        "data_smoker_filtered = data.loc[~((data['charges'] > 20000) & (data['smoker'] == 'no'))]"
      ],
      "execution_count": 9,
      "outputs": []
    },
    {
      "cell_type": "code",
      "metadata": {
        "colab": {
          "base_uri": "https://localhost:8080/",
          "height": 296
        },
        "id": "WqaQX7CHdjtZ",
        "outputId": "4df4f610-d187-45d6-90ad-c1724cd26b7a"
      },
      "source": [
        "# Graficamos para children y charges\n",
        "sns.boxplot(data = data_smoker_filtered, x = 'children', y = 'charges')"
      ],
      "execution_count": 10,
      "outputs": [
        {
          "output_type": "execute_result",
          "data": {
            "text/plain": [
              "<matplotlib.axes._subplots.AxesSubplot at 0x7f3dbd4a2650>"
            ]
          },
          "metadata": {},
          "execution_count": 10
        },
        {
          "output_type": "display_data",
          "data": {
            "image/png": "[encoded data removed]",
            "text/plain": [
              "<Figure size 432x288 with 1 Axes>"
            ]
          },
          "metadata": {
            "needs_background": "light"
          }
        }
      ]
    },
    {
      "cell_type": "markdown",
      "metadata": {
        "id": "d5PmTir2g0d4"
      },
      "source": [
        "Para la cantidad de hijos, hay outliers para todas las cantidades. En este caso, decidimos quedarnos con los registros con cargos menores a 35000, por el mismo motivo que antes. Decidimos este valor ya que no quita valores que no son outliers y quita la mayoría de los mismos."
      ]
    },
    {
      "cell_type": "code",
      "metadata": {
        "id": "eRoWLeIdh_Go"
      },
      "source": [
        "# Eliminamos esos outliers\n",
        "data_charges_filtered = data_smoker_filtered.loc[data_smoker_filtered['charges'] < 35000]"
      ],
      "execution_count": 11,
      "outputs": []
    },
    {
      "cell_type": "markdown",
      "metadata": {
        "id": "s8n3vQUsYZcg"
      },
      "source": [
        "## Separamos nuestra data de nuestro target (clase)"
      ]
    },
    {
      "cell_type": "code",
      "metadata": {
        "id": "QVLr_dOrYhCU"
      },
      "source": [
        "y = data_charges_filtered['charges']\n",
        "X = data_charges_filtered.drop(columns='charges')"
      ],
      "execution_count": 12,
      "outputs": []
    },
    {
      "cell_type": "markdown",
      "metadata": {
        "id": "YENpocWJZG-1"
      },
      "source": [
        " Visualizamos el comportamiento de las variables numéricas entre ellas y la distribución de sus valores."
      ]
    },
    {
      "cell_type": "code",
      "metadata": {
        "colab": {
          "base_uri": "https://localhost:8080/",
          "height": 550
        },
        "id": "P3Tc5YOaal6b",
        "outputId": "8adfe42f-11d3-47e2-c7d1-72c8873cceff"
      },
      "source": [
        "sns.set_palette(\"CMRmap\")\n",
        "\n",
        "# Función para ocultar la diagonal superior\n",
        "def hide_current_axis(*args, **kwds):\n",
        "    plt.gca().set_visible(False)\n",
        "    \n",
        "eucalyptus_plot = sns.pairplot(X)\n",
        "eucalyptus_plot.map_upper(hide_current_axis)\n",
        "plt.show()"
      ],
      "execution_count": 13,
      "outputs": [
        {
          "output_type": "display_data",
          "data": {
            "image/png": "[encoded data removed]",
            "text/plain": [
              "<Figure size 540x540 with 12 Axes>"
            ]
          },
          "metadata": {
            "needs_background": "light"
          }
        }
      ]
    },
    {
      "cell_type": "markdown",
      "metadata": {
        "id": "dMPqO3ppZT-F"
      },
      "source": [
        "Vemos que la distribuciones de edades tiene un pico para los más jóvenes (20 años) mientras que el resto es bastante parejo. Para el 'bmi' se puede observar una distribución gausseana, con una media en 30 confirmando lo que se observó anteriormente de las estadísticas del dataset. Con respecto a los hijos hay mayor cantidad de asegurados que no tienen hijos y para los que sí tienen hijos la relación es inversamente proporcional entre la cantidad de hijos y la cantidad de asegurados."
      ]
    },
    {
      "cell_type": "markdown",
      "metadata": {
        "id": "wp5IHKuGZuJl"
      },
      "source": [
        "Calculamos matriz de correlación"
      ]
    },
    {
      "cell_type": "code",
      "metadata": {
        "colab": {
          "base_uri": "https://localhost:8080/",
          "height": 378
        },
        "id": "6cx3C3ZpYnx9",
        "outputId": "7f532911-fae5-49cd-f05f-8b70db2a32dc"
      },
      "source": [
        "plt.figure(figsize=(8,6));\n",
        "sns.heatmap(X.corr(), vmin=-1.0, vmax=1.0, center=0.0, annot=True, cmap='BrBG');"
      ],
      "execution_count": 14,
      "outputs": [
        {
          "output_type": "display_data",
          "data": {
            "image/png": "[encoded data removed]",
            "text/plain": [
              "<Figure size 576x432 with 2 Axes>"
            ]
          },
          "metadata": {
            "needs_background": "light"
          }
        }
      ]
    },
    {
      "cell_type": "markdown",
      "metadata": {
        "id": "LXPa8QekYM6d"
      },
      "source": [
        "Calculamos esta matriz para saber la correlación entre las variables numéricas. Y podemos observar que no hay correlación significativa."
      ]
    },
    {
      "cell_type": "markdown",
      "metadata": {
        "id": "EKkeLQgqR_iQ"
      },
      "source": [
        "# Primer Modelo"
      ]
    },
    {
      "cell_type": "markdown",
      "metadata": {
        "id": "hAVUA6v8d9t5"
      },
      "source": [
        "## Preprocesamiento"
      ]
    },
    {
      "cell_type": "markdown",
      "metadata": {
        "id": "CRbnL6B6KZTq"
      },
      "source": [
        "Vemos las distintas categorías para nuestras columnas feature categóricas."
      ]
    },
    {
      "cell_type": "code",
      "metadata": {
        "id": "u6-xXv9md_rZ",
        "colab": {
          "base_uri": "https://localhost:8080/"
        },
        "outputId": "11ae91de-0644-40ea-c92d-b05fda60e9b0"
      },
      "source": [
        "print(X['region'].unique())\n",
        "print(X['smoker'].unique())\n",
        "print(X['sex'].unique())"
      ],
      "execution_count": 15,
      "outputs": [
        {
          "output_type": "stream",
          "name": "stdout",
          "text": [
            "['southwest' 'southeast' 'northwest' 'northeast']\n",
            "['yes' 'no']\n",
            "['female' 'male']\n"
          ]
        }
      ]
    },
    {
      "cell_type": "markdown",
      "metadata": {
        "id": "w2Uje9OOKlgU"
      },
      "source": [
        "Convertimos las variables categóricas a dummies."
      ]
    },
    {
      "cell_type": "code",
      "metadata": {
        "colab": {
          "base_uri": "https://localhost:8080/",
          "height": 201
        },
        "id": "POLQ1wOPIoEp",
        "outputId": "60cc6f17-c52e-425a-dd2d-c26011b08f67"
      },
      "source": [
        "X = pd.get_dummies(X, prefix=['is', 'smoker'], columns=['sex', 'smoker'], drop_first=True)\n",
        "X = pd.get_dummies(X, prefix=['from'], columns=['region'])\n",
        "X = X.rename(columns={'smoker_yes': 'is_smoker'})\n",
        "X.head()"
      ],
      "execution_count": 16,
      "outputs": [
        {
          "output_type": "execute_result",
          "data": {
            "text/html": [
              "<div>\n",
              "<style scoped>\n",
              "    .dataframe tbody tr th:only-of-type {\n",
              "        vertical-align: middle;\n",
              "    }\n",
              "\n",
              "    .dataframe tbody tr th {\n",
              "        vertical-align: top;\n",
              "    }\n",
              "\n",
              "    .dataframe thead th {\n",
              "        text-align: right;\n",
              "    }\n",
              "</style>\n",
              "<table border=\"1\" class=\"dataframe\">\n",
              "  <thead>\n",
              "    <tr style=\"text-align: right;\">\n",
              "      <th></th>\n",
              "      <th>age</th>\n",
              "      <th>bmi</th>\n",
              "      <th>children</th>\n",
              "      <th>is_male</th>\n",
              "      <th>is_smoker</th>\n",
              "      <th>from_northeast</th>\n",
              "      <th>from_northwest</th>\n",
              "      <th>from_southeast</th>\n",
              "      <th>from_southwest</th>\n",
              "    </tr>\n",
              "  </thead>\n",
              "  <tbody>\n",
              "    <tr>\n",
              "      <th>0</th>\n",
              "      <td>19</td>\n",
              "      <td>27.90</td>\n",
              "      <td>0</td>\n",
              "      <td>0</td>\n",
              "      <td>1</td>\n",
              "      <td>0</td>\n",
              "      <td>0</td>\n",
              "      <td>0</td>\n",
              "      <td>1</td>\n",
              "    </tr>\n",
              "    <tr>\n",
              "      <th>1</th>\n",
              "      <td>18</td>\n",
              "      <td>33.77</td>\n",
              "      <td>1</td>\n",
              "      <td>1</td>\n",
              "      <td>0</td>\n",
              "      <td>0</td>\n",
              "      <td>0</td>\n",
              "      <td>1</td>\n",
              "      <td>0</td>\n",
              "    </tr>\n",
              "    <tr>\n",
              "      <th>2</th>\n",
              "      <td>28</td>\n",
              "      <td>33.00</td>\n",
              "      <td>3</td>\n",
              "      <td>1</td>\n",
              "      <td>0</td>\n",
              "      <td>0</td>\n",
              "      <td>0</td>\n",
              "      <td>1</td>\n",
              "      <td>0</td>\n",
              "    </tr>\n",
              "    <tr>\n",
              "      <th>4</th>\n",
              "      <td>32</td>\n",
              "      <td>28.88</td>\n",
              "      <td>0</td>\n",
              "      <td>1</td>\n",
              "      <td>0</td>\n",
              "      <td>0</td>\n",
              "      <td>1</td>\n",
              "      <td>0</td>\n",
              "      <td>0</td>\n",
              "    </tr>\n",
              "    <tr>\n",
              "      <th>5</th>\n",
              "      <td>31</td>\n",
              "      <td>25.74</td>\n",
              "      <td>0</td>\n",
              "      <td>0</td>\n",
              "      <td>0</td>\n",
              "      <td>0</td>\n",
              "      <td>0</td>\n",
              "      <td>1</td>\n",
              "      <td>0</td>\n",
              "    </tr>\n",
              "  </tbody>\n",
              "</table>\n",
              "</div>"
            ],
            "text/plain": [
              "   age    bmi  children  ...  from_northwest  from_southeast  from_southwest\n",
              "0   19  27.90         0  ...               0               0               1\n",
              "1   18  33.77         1  ...               0               1               0\n",
              "2   28  33.00         3  ...               0               1               0\n",
              "4   32  28.88         0  ...               1               0               0\n",
              "5   31  25.74         0  ...               0               1               0\n",
              "\n",
              "[5 rows x 9 columns]"
            ]
          },
          "metadata": {},
          "execution_count": 16
        }
      ]
    },
    {
      "cell_type": "markdown",
      "metadata": {
        "id": "PfRP-LDvdSE5"
      },
      "source": [
        "### Particionado de datos para modelo"
      ]
    },
    {
      "cell_type": "code",
      "metadata": {
        "colab": {
          "base_uri": "https://localhost:8080/"
        },
        "id": "vz-jNYJlazUL",
        "outputId": "33c4ca82-2779-4e95-cfd5-69e7067c4037"
      },
      "source": [
        "# sacamos el 30% de las muestras para los datos de test\n",
        "X_trainval, X_test, y_trainval, y_test = train_test_split(X, y, test_size=0.3, random_state=1)\n",
        "# y repetimos ahora, pero sacando un 10% para los datos de validación\n",
        "X_train, X_val, y_train, y_val = train_test_split(X_trainval, y_trainval, test_size=0.1, random_state=10)\n",
        "# verificamos sus tamaños\n",
        "print('Training set size: {}'.format(X_train.shape))\n",
        "print('Validation set size: {}'.format(X_val.shape))\n",
        "print('Test set size: {}'.format(X_test.shape))"
      ],
      "execution_count": 17,
      "outputs": [
        {
          "output_type": "stream",
          "name": "stdout",
          "text": [
            "Training set size: (721, 9)\n",
            "Validation set size: (81, 9)\n",
            "Test set size: (345, 9)\n"
          ]
        }
      ]
    },
    {
      "cell_type": "markdown",
      "metadata": {
        "id": "xQtGnzd2b-3Z"
      },
      "source": [
        "Hacemos una estandarización de los datos teniendo en cuenta la media y el desvío estándar. Luego de esta transformación la media será cero (0) y el desvío estándar será uno (1)."
      ]
    },
    {
      "cell_type": "code",
      "metadata": {
        "id": "HpjD4eNzOjN2"
      },
      "source": [
        "ct = ColumnTransformer([('transformer', StandardScaler(), ['age','bmi','children'])], remainder = 'passthrough')\n",
        "ct.fit(X_train)\n",
        "\n",
        "X_train = ct.transform(X_train)\n",
        "X_val = ct.transform(X_val)\n",
        "X_test = ct.transform(X_test)"
      ],
      "execution_count": 18,
      "outputs": []
    },
    {
      "cell_type": "markdown",
      "metadata": {
        "id": "SWql8UMtaZOZ"
      },
      "source": [
        "## Modelado"
      ]
    },
    {
      "cell_type": "markdown",
      "metadata": {
        "id": "GSD2VkP9m60w"
      },
      "source": [
        "### Funciones auxiliares"
      ]
    },
    {
      "cell_type": "code",
      "metadata": {
        "id": "gRA52UnwgIM9"
      },
      "source": [
        "# Definimos función para realizar el fit con el randomizedSearch y obtener los\n",
        "# mejores hiperparámetros para el modelo.\n",
        "def cv_fit_get_best_and_rmse(cv, X_train, y_train, X_val, y_val):\n",
        "  cv.fit(X_train, y_train)\n",
        "  cv_best = cv.best_estimator_\n",
        "  y_pred = cv_best.predict(X_val)\n",
        "  RMSE = np.sqrt(mean_squared_error(y_pred, y_val))\n",
        "  return cv_best, cv.best_params_, RMSE\n",
        "\n",
        "def draw_feature_importance_graph(X, cv_best):\n",
        "  plt.bar(X.columns, cv_best.feature_importances_)\n",
        "  plt.xticks(ticks=np.arange(X.columns.size), labels=X.columns, rotation=90)\n",
        "  plt.title('Feature importance')\n",
        "  plt.xlabel('Features')\n",
        "  plt.ylabel('Feature importance')\n",
        "  plt.grid(True)\n",
        "  plt.show()\n",
        "\n",
        "def print_params_and_rmse(params, rmse):\n",
        "  print(\"Mejores hiperparámetros: {}\".format(params))\n",
        "  print(\"RMSE del mejor modelo sobre conjunto de validación: {} \\n\".format(rmse))"
      ],
      "execution_count": 19,
      "outputs": []
    },
    {
      "cell_type": "markdown",
      "metadata": {
        "id": "13VH6j_NaggP"
      },
      "source": [
        "### Regresor lineal"
      ]
    },
    {
      "cell_type": "code",
      "metadata": {
        "colab": {
          "base_uri": "https://localhost:8080/"
        },
        "id": "o4-cfvEFacye",
        "outputId": "b1f49346-da6c-4306-e697-f843f15aaad5"
      },
      "source": [
        "lr = LinearRegression()\n",
        "lr.fit(X_train, y_train)\n",
        "\n",
        "y_pred_train = lr.predict(X_train)\n",
        "\n",
        "RMSE_train = np.sqrt(mean_squared_error(y_pred_train, y_train))\n",
        "print(\"RMSE de regresor lineal sobre conjunto de entrenamiento: {}\".format(RMSE_train))\n",
        "\n",
        "y_pred = lr.predict(X_val)\n",
        "\n",
        "RMSE = np.sqrt(mean_squared_error(y_pred, y_val))\n",
        "print(\"RMSE de regresor lineal sobre conjunto de validación: {}\".format(RMSE))"
      ],
      "execution_count": 20,
      "outputs": [
        {
          "output_type": "stream",
          "name": "stdout",
          "text": [
            "RMSE de regresor lineal sobre conjunto de entrenamiento: 3017.1395681446415\n",
            "RMSE de regresor lineal sobre conjunto de validación: 3367.9993715659434\n"
          ]
        }
      ]
    },
    {
      "cell_type": "markdown",
      "metadata": {
        "id": "LsFP_N4thHmb"
      },
      "source": [
        "### Regresor Ridge\n",
        "Como el modelo anterior mostró un poco de overfitting, probamos un regularizados con varios valores distintos de regularización. En este paso se entrena con  RandomSearch para hacer elección del hiperparámetro alpha."
      ]
    },
    {
      "cell_type": "code",
      "metadata": {
        "colab": {
          "base_uri": "https://localhost:8080/"
        },
        "id": "hYHyoA3Mce21",
        "outputId": "e76f5325-508b-4f71-929d-8aebe157a5e9"
      },
      "source": [
        "ridge = Ridge() # fit_intercept=True, normalize=False es por dafault\n",
        "params = {'alpha': [0.0001, 0.01, 1.0, 10.0]}\n",
        "ridge_cv = RandomizedSearchCV(ridge, params, cv= 5, n_iter=6)\n",
        "\n",
        "ridge_best, ridge_best_params, ridge_rmse = cv_fit_get_best_and_rmse(ridge_cv, X_train, y_train, X_val, y_val)\n",
        "print_params_and_rmse(ridge_best_params, ridge_rmse)"
      ],
      "execution_count": 21,
      "outputs": [
        {
          "output_type": "stream",
          "name": "stdout",
          "text": [
            "Mejores hiperparámetros: {'alpha': 0.01}\n",
            "RMSE del mejor modelo sobre conjunto de validación: 3368.0765183923327 \n",
            "\n"
          ]
        },
        {
          "output_type": "stream",
          "name": "stderr",
          "text": [
            "/usr/local/lib/python3.7/dist-packages/sklearn/model_selection/_search.py:281: UserWarning: The total space of parameters 4 is smaller than n_iter=6. Running 4 iterations. For exhaustive searches, use GridSearchCV.\n",
            "  % (grid_size, self.n_iter, grid_size), UserWarning)\n"
          ]
        }
      ]
    },
    {
      "cell_type": "markdown",
      "metadata": {
        "id": "uZAMWkj8krUQ"
      },
      "source": [
        "## Test\n",
        "Evaluamos sobre el conjunto de test el mejor modelo, que resultó ser el regresor lineal."
      ]
    },
    {
      "cell_type": "code",
      "metadata": {
        "colab": {
          "base_uri": "https://localhost:8080/"
        },
        "id": "MUKEuNJUktyO",
        "outputId": "47d00321-b2be-44cd-87d7-c2307f550be6"
      },
      "source": [
        "y_pred = lr.predict(X_test)\n",
        "RMSE = np.sqrt(mean_squared_error(y_pred, y_test))\n",
        "print(\"RMSE del mejor modelo sobre conjunto de testeo: {}\".format(RMSE))"
      ],
      "execution_count": 22,
      "outputs": [
        {
          "output_type": "stream",
          "name": "stdout",
          "text": [
            "RMSE del mejor modelo sobre conjunto de testeo: 3003.203003412937\n"
          ]
        }
      ]
    },
    {
      "cell_type": "markdown",
      "metadata": {
        "id": "v0m6Jyexlo3E"
      },
      "source": [
        "## Conclusión de este modelo\n",
        "\n",
        "Viendo el resultado utilizando el modelo de regresión lineal, nos da un error medio cuadrático de 3003.2, lo que quiere decir, que nuestro modelo le está errando por una gran cantidad de dólares para un seguro anual, por lo tanto vamos a cambiar el preprocesamiento para intentar mejorar el modelo."
      ]
    },
    {
      "cell_type": "markdown",
      "metadata": {
        "id": "vtSUeMUyRxwK"
      },
      "source": [
        "# Segundo Modelo"
      ]
    },
    {
      "cell_type": "markdown",
      "metadata": {
        "id": "nCZ6Pxs4V39O"
      },
      "source": [
        "## Preprocesamiento"
      ]
    },
    {
      "cell_type": "markdown",
      "metadata": {
        "id": "4XyF97cAVIZv"
      },
      "source": [
        "Hacemos una nueva copia del dataset y lo dividimos extrayendo la columna de clases."
      ]
    },
    {
      "cell_type": "code",
      "metadata": {
        "id": "5VfBzufYULlw"
      },
      "source": [
        "data2 = data_charges_filtered.copy()\n",
        "\n",
        "y = data2['charges']\n",
        "X = data2.drop(columns='charges')"
      ],
      "execution_count": 23,
      "outputs": []
    },
    {
      "cell_type": "markdown",
      "metadata": {
        "id": "lTDhuNVtVUOC"
      },
      "source": [
        "Hacemos un get dummies con las columnas sex y smoker, y para la de regiones las mapeamos de 1 a 4. De esta forma no tenemos categorías divididas en varias columnas de One Hot Encoding y podemos probar con algoritmos basados en árboles."
      ]
    },
    {
      "cell_type": "code",
      "metadata": {
        "colab": {
          "base_uri": "https://localhost:8080/",
          "height": 412
        },
        "id": "kraph3NmRxd6",
        "outputId": "5e8e48d4-d309-4253-c01e-fbfbd9479642"
      },
      "source": [
        "X = pd.get_dummies(X, prefix=['is', 'smoker'], columns=['sex', 'smoker'], drop_first=True)\n",
        "X = X.rename(columns={'smoker_yes': 'is_smoker'})\n",
        "\n",
        "regions_mapping = {\n",
        "  'southwest': 1,\n",
        "  'southeast': 2,\n",
        "  'northwest': 3,\n",
        "  'northeast': 4\n",
        "}\n",
        "X['region'] = X['region'].map(regions_mapping)\n",
        "X"
      ],
      "execution_count": 24,
      "outputs": [
        {
          "output_type": "execute_result",
          "data": {
            "text/html": [
              "<div>\n",
              "<style scoped>\n",
              "    .dataframe tbody tr th:only-of-type {\n",
              "        vertical-align: middle;\n",
              "    }\n",
              "\n",
              "    .dataframe tbody tr th {\n",
              "        vertical-align: top;\n",
              "    }\n",
              "\n",
              "    .dataframe thead th {\n",
              "        text-align: right;\n",
              "    }\n",
              "</style>\n",
              "<table border=\"1\" class=\"dataframe\">\n",
              "  <thead>\n",
              "    <tr style=\"text-align: right;\">\n",
              "      <th></th>\n",
              "      <th>age</th>\n",
              "      <th>bmi</th>\n",
              "      <th>children</th>\n",
              "      <th>region</th>\n",
              "      <th>is_male</th>\n",
              "      <th>is_smoker</th>\n",
              "    </tr>\n",
              "  </thead>\n",
              "  <tbody>\n",
              "    <tr>\n",
              "      <th>0</th>\n",
              "      <td>19</td>\n",
              "      <td>27.90</td>\n",
              "      <td>0</td>\n",
              "      <td>1</td>\n",
              "      <td>0</td>\n",
              "      <td>1</td>\n",
              "    </tr>\n",
              "    <tr>\n",
              "      <th>1</th>\n",
              "      <td>18</td>\n",
              "      <td>33.77</td>\n",
              "      <td>1</td>\n",
              "      <td>2</td>\n",
              "      <td>1</td>\n",
              "      <td>0</td>\n",
              "    </tr>\n",
              "    <tr>\n",
              "      <th>2</th>\n",
              "      <td>28</td>\n",
              "      <td>33.00</td>\n",
              "      <td>3</td>\n",
              "      <td>2</td>\n",
              "      <td>1</td>\n",
              "      <td>0</td>\n",
              "    </tr>\n",
              "    <tr>\n",
              "      <th>4</th>\n",
              "      <td>32</td>\n",
              "      <td>28.88</td>\n",
              "      <td>0</td>\n",
              "      <td>3</td>\n",
              "      <td>1</td>\n",
              "      <td>0</td>\n",
              "    </tr>\n",
              "    <tr>\n",
              "      <th>5</th>\n",
              "      <td>31</td>\n",
              "      <td>25.74</td>\n",
              "      <td>0</td>\n",
              "      <td>2</td>\n",
              "      <td>0</td>\n",
              "      <td>0</td>\n",
              "    </tr>\n",
              "    <tr>\n",
              "      <th>...</th>\n",
              "      <td>...</td>\n",
              "      <td>...</td>\n",
              "      <td>...</td>\n",
              "      <td>...</td>\n",
              "      <td>...</td>\n",
              "      <td>...</td>\n",
              "    </tr>\n",
              "    <tr>\n",
              "      <th>1333</th>\n",
              "      <td>50</td>\n",
              "      <td>30.97</td>\n",
              "      <td>3</td>\n",
              "      <td>3</td>\n",
              "      <td>1</td>\n",
              "      <td>0</td>\n",
              "    </tr>\n",
              "    <tr>\n",
              "      <th>1334</th>\n",
              "      <td>18</td>\n",
              "      <td>31.92</td>\n",
              "      <td>0</td>\n",
              "      <td>4</td>\n",
              "      <td>0</td>\n",
              "      <td>0</td>\n",
              "    </tr>\n",
              "    <tr>\n",
              "      <th>1335</th>\n",
              "      <td>18</td>\n",
              "      <td>36.85</td>\n",
              "      <td>0</td>\n",
              "      <td>2</td>\n",
              "      <td>0</td>\n",
              "      <td>0</td>\n",
              "    </tr>\n",
              "    <tr>\n",
              "      <th>1336</th>\n",
              "      <td>21</td>\n",
              "      <td>25.80</td>\n",
              "      <td>0</td>\n",
              "      <td>1</td>\n",
              "      <td>0</td>\n",
              "      <td>0</td>\n",
              "    </tr>\n",
              "    <tr>\n",
              "      <th>1337</th>\n",
              "      <td>61</td>\n",
              "      <td>29.07</td>\n",
              "      <td>0</td>\n",
              "      <td>3</td>\n",
              "      <td>0</td>\n",
              "      <td>1</td>\n",
              "    </tr>\n",
              "  </tbody>\n",
              "</table>\n",
              "<p>1147 rows × 6 columns</p>\n",
              "</div>"
            ],
            "text/plain": [
              "      age    bmi  children  region  is_male  is_smoker\n",
              "0      19  27.90         0       1        0          1\n",
              "1      18  33.77         1       2        1          0\n",
              "2      28  33.00         3       2        1          0\n",
              "4      32  28.88         0       3        1          0\n",
              "5      31  25.74         0       2        0          0\n",
              "...   ...    ...       ...     ...      ...        ...\n",
              "1333   50  30.97         3       3        1          0\n",
              "1334   18  31.92         0       4        0          0\n",
              "1335   18  36.85         0       2        0          0\n",
              "1336   21  25.80         0       1        0          0\n",
              "1337   61  29.07         0       3        0          1\n",
              "\n",
              "[1147 rows x 6 columns]"
            ]
          },
          "metadata": {},
          "execution_count": 24
        }
      ]
    },
    {
      "cell_type": "markdown",
      "metadata": {
        "id": "66BlfyM8Vua8"
      },
      "source": [
        "### Particionado de datos para modelo"
      ]
    },
    {
      "cell_type": "code",
      "metadata": {
        "colab": {
          "base_uri": "https://localhost:8080/"
        },
        "id": "UmjtxBH8Vua9",
        "outputId": "47cca6d2-5b55-4c23-a587-7a8513c5ad49"
      },
      "source": [
        "# sacamos el 30% de las muestras para los datos de test\n",
        "X_trainval, X_test, y_trainval, y_test = train_test_split(X, y, test_size=0.3, random_state=1)\n",
        "# y repetimos ahora, pero sacando un 10% para los datos de validación\n",
        "X_train, X_val, y_train, y_val = train_test_split(X_trainval, y_trainval, test_size=0.1, random_state=10)\n",
        "# verificamos sus tamaños\n",
        "print('Training set size: {}'.format(X_train.shape))\n",
        "print('Validation set size: {}'.format(X_val.shape))\n",
        "print('Test set size: {}'.format(X_test.shape))"
      ],
      "execution_count": 25,
      "outputs": [
        {
          "output_type": "stream",
          "name": "stdout",
          "text": [
            "Training set size: (721, 6)\n",
            "Validation set size: (81, 6)\n",
            "Test set size: (345, 6)\n"
          ]
        }
      ]
    },
    {
      "cell_type": "markdown",
      "metadata": {
        "id": "XwJu8tenVua9"
      },
      "source": [
        "Hacemos una estandarización de los datos teniendo en cuenta la media y el desvío estándar. Luego de esta transformación la media será cero (0) y el desvío estándar será uno (1)."
      ]
    },
    {
      "cell_type": "code",
      "metadata": {
        "id": "mG5yjUNnVua-"
      },
      "source": [
        "ct = ColumnTransformer([('transformer', StandardScaler(), ['age','bmi','children'])], remainder = 'passthrough')\n",
        "ct.fit(X_train)\n",
        "\n",
        "X_train = ct.transform(X_train)\n",
        "X_val = ct.transform(X_val)\n",
        "X_test = ct.transform(X_test)"
      ],
      "execution_count": 26,
      "outputs": []
    },
    {
      "cell_type": "markdown",
      "metadata": {
        "id": "K_oNkNy9WMcI"
      },
      "source": [
        "## Modelado"
      ]
    },
    {
      "cell_type": "markdown",
      "metadata": {
        "id": "ta4KSvOMWMcK"
      },
      "source": [
        "### Regresor lineal"
      ]
    },
    {
      "cell_type": "code",
      "metadata": {
        "colab": {
          "base_uri": "https://localhost:8080/"
        },
        "id": "DzLkskRbWMcK",
        "outputId": "6382589e-a678-4bc3-dc13-2aa4763c02e9"
      },
      "source": [
        "lr = LinearRegression()\n",
        "lr.fit(X_train, y_train)\n",
        "\n",
        "y_pred = lr.predict(X_val)\n",
        "\n",
        "RMSE = np.sqrt(mean_squared_error(y_pred, y_val))\n",
        "print(\"RMSE de regresor lineal sobre conjunto de validación: {}\".format(RMSE))"
      ],
      "execution_count": 27,
      "outputs": [
        {
          "output_type": "stream",
          "name": "stdout",
          "text": [
            "RMSE de regresor lineal sobre conjunto de validación: 3368.440257771241\n"
          ]
        }
      ]
    },
    {
      "cell_type": "markdown",
      "metadata": {
        "id": "u170Y1lsWMcM"
      },
      "source": [
        "### Regresor Ridge"
      ]
    },
    {
      "cell_type": "code",
      "metadata": {
        "colab": {
          "base_uri": "https://localhost:8080/"
        },
        "id": "0TB6dKriWMcM",
        "outputId": "5a026463-5c45-4571-f6c4-c00b4318935e"
      },
      "source": [
        "ridge = Ridge() # fit_intercept=True, normalize=False es por dafault\n",
        "params = {'alpha': [0.0001, 0.01, 1.0, 10.0]}\n",
        "ridge_cv = RandomizedSearchCV(ridge, params, cv= 5, n_iter=6)\n",
        "\n",
        "ridge_best, ridge_best_params, ridge_rmse = cv_fit_get_best_and_rmse(ridge_cv, X_train, y_train, X_val, y_val)\n",
        "print_params_and_rmse(ridge_best_params, ridge_rmse)"
      ],
      "execution_count": 28,
      "outputs": [
        {
          "output_type": "stream",
          "name": "stdout",
          "text": [
            "Mejores hiperparámetros: {'alpha': 0.01}\n",
            "RMSE del mejor modelo sobre conjunto de validación: 3368.508572464213 \n",
            "\n"
          ]
        },
        {
          "output_type": "stream",
          "name": "stderr",
          "text": [
            "/usr/local/lib/python3.7/dist-packages/sklearn/model_selection/_search.py:281: UserWarning: The total space of parameters 4 is smaller than n_iter=6. Running 4 iterations. For exhaustive searches, use GridSearchCV.\n",
            "  % (grid_size, self.n_iter, grid_size), UserWarning)\n"
          ]
        }
      ]
    },
    {
      "cell_type": "markdown",
      "metadata": {
        "id": "uwzya3N8WMcM"
      },
      "source": [
        "### Regresor Random Forest\n",
        "\n",
        "Los algoritmos de Regresión Lineal y Ridge dieron resultados similares al preprocesamiento anterior.\n",
        "Ahora probamos con Random Forest, basado en árboles.\n",
        "También hacemos elección de hiperparámetros, tomando distintas cantidades de árboles y distintas profundidades."
      ]
    },
    {
      "cell_type": "code",
      "metadata": {
        "colab": {
          "base_uri": "https://localhost:8080/",
          "height": 387
        },
        "id": "Wt3fzWvmWMcN",
        "outputId": "bce33ec5-549f-4970-e15e-dff075ab6993"
      },
      "source": [
        "rf = RandomForestRegressor()\n",
        "params = {'n_estimators': [50, 100, 200, 300, 400, 500],\n",
        "          'max_depth': [3,5,7,None]}\n",
        "rf_cv = RandomizedSearchCV(rf, params, cv= 5, n_iter=7)\n",
        "\n",
        "rf_best, rf_best_params, rf_rmse = cv_fit_get_best_and_rmse(rf_cv, X_train, y_train, X_val, y_val)\n",
        "print_params_and_rmse(rf_best_params, rf_rmse)\n",
        "draw_feature_importance_graph(X, rf_best)"
      ],
      "execution_count": 29,
      "outputs": [
        {
          "output_type": "stream",
          "name": "stdout",
          "text": [
            "Mejores hiperparámetros: {'n_estimators': 400, 'max_depth': 5}\n",
            "RMSE del mejor modelo sobre conjunto de validación: 2307.5416444598486 \n",
            "\n"
          ]
        },
        {
          "output_type": "display_data",
          "data": {
            "image/png": "[encoded data removed]",
            "text/plain": [
              "<Figure size 432x288 with 1 Axes>"
            ]
          },
          "metadata": {
            "needs_background": "light"
          }
        }
      ]
    },
    {
      "cell_type": "markdown",
      "metadata": {
        "id": "xMb0pf3hWMcN"
      },
      "source": [
        "### Regresor Gradient Boosting\n",
        "Probamos otro modelo basado en árboles."
      ]
    },
    {
      "cell_type": "code",
      "metadata": {
        "colab": {
          "base_uri": "https://localhost:8080/",
          "height": 387
        },
        "id": "umMJgxVcWMcN",
        "outputId": "4b7e23e1-3548-4054-8b20-4192658be964"
      },
      "source": [
        "gbt = GradientBoostingRegressor()\n",
        "params = {'n_estimators': [10, 50, 100, 200],\n",
        "          'max_depth': [3,5,7,None]}\n",
        "gbt_cv = RandomizedSearchCV(gbt, params, cv = 5, n_iter=5)\n",
        "\n",
        "gbt_best, gbt_best_params, gbt_rmse = cv_fit_get_best_and_rmse(gbt_cv, X_train, y_train, X_val, y_val)\n",
        "print_params_and_rmse(gbt_best_params, gbt_rmse)\n",
        "draw_feature_importance_graph(X, gbt_best)"
      ],
      "execution_count": 30,
      "outputs": [
        {
          "output_type": "stream",
          "name": "stdout",
          "text": [
            "Mejores hiperparámetros: {'n_estimators': 50, 'max_depth': 3}\n",
            "RMSE del mejor modelo sobre conjunto de validación: 2196.8331013152374 \n",
            "\n"
          ]
        },
        {
          "output_type": "display_data",
          "data": {
            "image/png": "[encoded data removed]",
            "text/plain": [
              "<Figure size 432x288 with 1 Axes>"
            ]
          },
          "metadata": {
            "needs_background": "light"
          }
        }
      ]
    },
    {
      "cell_type": "markdown",
      "metadata": {
        "id": "hIBr-HNvWMcO"
      },
      "source": [
        "## Test"
      ]
    },
    {
      "cell_type": "code",
      "metadata": {
        "colab": {
          "base_uri": "https://localhost:8080/"
        },
        "id": "GTTWmUX6WMcO",
        "outputId": "5305b6d9-f96b-4cd3-9844-74028c1ae99c"
      },
      "source": [
        "y_pred = gbt_best.predict(X_test)\n",
        "RMSE = np.sqrt(mean_squared_error(y_pred, y_test))\n",
        "print(\"RMSE del mejor modelo sobre conjunto de testeo: {}\".format(RMSE))"
      ],
      "execution_count": 31,
      "outputs": [
        {
          "output_type": "stream",
          "name": "stdout",
          "text": [
            "RMSE del mejor modelo sobre conjunto de testeo: 1803.6989935002096\n"
          ]
        }
      ]
    },
    {
      "cell_type": "markdown",
      "metadata": {
        "id": "Nmx5iGNDXPUM"
      },
      "source": [
        "# Conclusión general\n",
        "Se hizo un análisis exploratorio del dato para ver si había que hacer limpieza del mismo. A pesar de que no había datos faltantes, si había muchos outliers. Se tomó la estrategia de eliminarlos del modelo, ya que no sabemos su procedencia.\n",
        "\n",
        "\n",
        "Se hicieron dos preprocesamientos distintos, esperando mejoras para el segundo modelo. En el segundo modelo al no haber encodeado las variables categoricas en dummies, solo las que eran de dos categorías, fue posible aplicar algoritmos basados en árboles. Esto mostró una gran mejora en el modelo. El mejor modelo fue al entrenar con Gradient Boosted Trees, obteniendo un RMSE total de 1816.96. Esto quiere decir que el modelo estaría errando una media de 1800 dólares anuales al predecir cuánto debería salir un seguro médico. \n",
        "\n",
        "Además, la característica más importante del modelo resultó ser si el usuario es fumador o no, como se podría inferir del análisis del dato."
      ]
    }
  ]
}