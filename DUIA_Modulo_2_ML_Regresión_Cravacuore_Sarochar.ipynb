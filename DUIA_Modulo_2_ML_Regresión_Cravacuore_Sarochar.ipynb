{
  "nbformat": 4,
  "nbformat_minor": 0,
  "metadata": {
    "colab": {
      "name": "DUIA-Modulo-2-ML-Regresión-Cravacuore-Sarochar.ipynb",
      "provenance": [],
      "collapsed_sections": []
    },
    "kernelspec": {
      "name": "python3",
      "display_name": "Python 3"
    },
    "language_info": {
      "name": "python"
    }
  },
  "cells": [
    {
      "cell_type": "markdown",
      "metadata": {
        "id": "eWd208MVA-UV"
      },
      "source": [
        "# Diplomatura Universitaria en Inteligencia Artificial\n",
        "## Trabajo Práctico del Módulo de Aprendizaje Automático \n",
        "\n",
        "Relizado en conjunto:\n",
        "[Nuria Sarochar](https://www.linkedin.com/in/nuria-sarochar/)\n",
        "y\n",
        "[Damián Cravacuore](https://www.linkedin.com/in/cravacuore/).\n",
        "\n",
        "Junio 2020."
      ]
    },
    {
      "cell_type": "markdown",
      "metadata": {
        "id": "d29oZkyqVP1d"
      },
      "source": [
        "# Imports"
      ]
    },
    {
      "cell_type": "code",
      "metadata": {
        "id": "umUlrG54VR3d"
      },
      "source": [
        "import pandas as pd\n",
        "import numpy as np\n",
        "import seaborn as sns\n",
        "import matplotlib.pyplot as plt\n",
        "\n",
        "from sklearn.linear_model import LinearRegression, Ridge\n",
        "from sklearn.ensemble import GradientBoostingRegressor, RandomForestRegressor\n",
        "from sklearn.metrics import mean_squared_error\n",
        "from sklearn.preprocessing import StandardScaler\n",
        "from sklearn.compose import ColumnTransformer\n",
        "from sklearn.model_selection import train_test_split, RandomizedSearchCV"
      ],
      "execution_count": null,
      "outputs": []
    },
    {
      "cell_type": "markdown",
      "metadata": {
        "id": "uVy0VMfkVTsy"
      },
      "source": [
        "# Análisis exploratorio de datos"
      ]
    },
    {
      "cell_type": "markdown",
      "metadata": {
        "id": "6nq-DiQ8Xgku"
      },
      "source": [
        "## Lectura de dato\n",
        "\n",
        "Importamos dataset de [Insurance](https://www.kaggle.com/mirichoi0218/insurance)."
      ]
    },
    {
      "cell_type": "code",
      "metadata": {
        "id": "S0nnHdPYSeDI",
        "colab": {
          "base_uri": "https://localhost:8080/"
        },
        "outputId": "e411f1ab-c7f5-43e6-82d0-6257ce7d35fd"
      },
      "source": [
        "csv_file_url='https://drive.google.com/uc?id=18ya0mOAjks3wNVPh8_MZUw4qp_-hyoCx'\n",
        "original_data = pd.read_csv(csv_file_url)\n",
        "\n",
        "data = original_data.copy()\n",
        "print(data.head())\n",
        "data.describe()"
      ],
      "execution_count": null,
      "outputs": [
        {
          "output_type": "stream",
          "name": "stdout",
          "text": [
            "   age     sex     bmi  children smoker     region      charges\n",
            "0   19  female  27.900         0    yes  southwest  16884.92400\n",
            "1   18    male  33.770         1     no  southeast   1725.55230\n",
            "2   28    male  33.000         3     no  southeast   4449.46200\n",
            "3   33    male  22.705         0     no  northwest  21984.47061\n",
            "4   32    male  28.880         0     no  northwest   3866.85520\n"
          ]
        },
        {
          "output_type": "execute_result",
          "data": {
            "text/html": [
              "<div>\n",
              "<style scoped>\n",
              "    .dataframe tbody tr th:only-of-type {\n",
              "        vertical-align: middle;\n",
              "    }\n",
              "\n",
              "    .dataframe tbody tr th {\n",
              "        vertical-align: top;\n",
              "    }\n",
              "\n",
              "    .dataframe thead th {\n",
              "        text-align: right;\n",
              "    }\n",
              "</style>\n",
              "<table border=\"1\" class=\"dataframe\">\n",
              "  <thead>\n",
              "    <tr style=\"text-align: right;\">\n",
              "      <th></th>\n",
              "      <th>age</th>\n",
              "      <th>bmi</th>\n",
              "      <th>children</th>\n",
              "      <th>charges</th>\n",
              "    </tr>\n",
              "  </thead>\n",
              "  <tbody>\n",
              "    <tr>\n",
              "      <th>count</th>\n",
              "      <td>1338.000000</td>\n",
              "      <td>1338.000000</td>\n",
              "      <td>1338.000000</td>\n",
              "      <td>1338.000000</td>\n",
              "    </tr>\n",
              "    <tr>\n",
              "      <th>mean</th>\n",
              "      <td>39.207025</td>\n",
              "      <td>30.663397</td>\n",
              "      <td>1.094918</td>\n",
              "      <td>13270.422265</td>\n",
              "    </tr>\n",
              "    <tr>\n",
              "      <th>std</th>\n",
              "      <td>14.049960</td>\n",
              "      <td>6.098187</td>\n",
              "      <td>1.205493</td>\n",
              "      <td>12110.011237</td>\n",
              "    </tr>\n",
              "    <tr>\n",
              "      <th>min</th>\n",
              "      <td>18.000000</td>\n",
              "      <td>15.960000</td>\n",
              "      <td>0.000000</td>\n",
              "      <td>1121.873900</td>\n",
              "    </tr>\n",
              "    <tr>\n",
              "      <th>25%</th>\n",
              "      <td>27.000000</td>\n",
              "      <td>26.296250</td>\n",
              "      <td>0.000000</td>\n",
              "      <td>4740.287150</td>\n",
              "    </tr>\n",
              "    <tr>\n",
              "      <th>50%</th>\n",
              "      <td>39.000000</td>\n",
              "      <td>30.400000</td>\n",
              "      <td>1.000000</td>\n",
              "      <td>9382.033000</td>\n",
              "    </tr>\n",
              "    <tr>\n",
              "      <th>75%</th>\n",
              "      <td>51.000000</td>\n",
              "      <td>34.693750</td>\n",
              "      <td>2.000000</td>\n",
              "      <td>16639.912515</td>\n",
              "    </tr>\n",
              "    <tr>\n",
              "      <th>max</th>\n",
              "      <td>64.000000</td>\n",
              "      <td>53.130000</td>\n",
              "      <td>5.000000</td>\n",
              "      <td>63770.428010</td>\n",
              "    </tr>\n",
              "  </tbody>\n",
              "</table>\n",
              "</div>"
            ],
            "text/plain": [
              "               age          bmi     children       charges\n",
              "count  1338.000000  1338.000000  1338.000000   1338.000000\n",
              "mean     39.207025    30.663397     1.094918  13270.422265\n",
              "std      14.049960     6.098187     1.205493  12110.011237\n",
              "min      18.000000    15.960000     0.000000   1121.873900\n",
              "25%      27.000000    26.296250     0.000000   4740.287150\n",
              "50%      39.000000    30.400000     1.000000   9382.033000\n",
              "75%      51.000000    34.693750     2.000000  16639.912515\n",
              "max      64.000000    53.130000     5.000000  63770.428010"
            ]
          },
          "metadata": {},
          "execution_count": 43
        }
      ]
    },
    {
      "cell_type": "markdown",
      "metadata": {
        "id": "MNF-ybDeX1rE"
      },
      "source": [
        "Visualizamos la estructura del dataset, y sus características estadísticas generales."
      ]
    },
    {
      "cell_type": "markdown",
      "metadata": {
        "id": "by8ewdssW1Hv"
      },
      "source": [
        "## Observamos si hay datos faltantes"
      ]
    },
    {
      "cell_type": "code",
      "metadata": {
        "colab": {
          "base_uri": "https://localhost:8080/"
        },
        "id": "0oCgAeuZW320",
        "outputId": "4f11e09f-7d91-41bb-9ac1-f36f085b4c75"
      },
      "source": [
        "data.info()"
      ],
      "execution_count": null,
      "outputs": [
        {
          "output_type": "stream",
          "name": "stdout",
          "text": [
            "<class 'pandas.core.frame.DataFrame'>\n",
            "RangeIndex: 1338 entries, 0 to 1337\n",
            "Data columns (total 7 columns):\n",
            " #   Column    Non-Null Count  Dtype  \n",
            "---  ------    --------------  -----  \n",
            " 0   age       1338 non-null   int64  \n",
            " 1   sex       1338 non-null   object \n",
            " 2   bmi       1338 non-null   float64\n",
            " 3   children  1338 non-null   int64  \n",
            " 4   smoker    1338 non-null   object \n",
            " 5   region    1338 non-null   object \n",
            " 6   charges   1338 non-null   float64\n",
            "dtypes: float64(2), int64(2), object(3)\n",
            "memory usage: 73.3+ KB\n"
          ]
        }
      ]
    },
    {
      "cell_type": "markdown",
      "metadata": {
        "id": "nADpO9VNW7Bh"
      },
      "source": [
        "Observando la información dada sobre el dataset, vemos que no hay datos faltantes en ninguna columna."
      ]
    },
    {
      "cell_type": "markdown",
      "metadata": {
        "id": "s8n3vQUsYZcg"
      },
      "source": [
        "## Separamos nuestra data de nuestro target (clase)"
      ]
    },
    {
      "cell_type": "code",
      "metadata": {
        "id": "QVLr_dOrYhCU"
      },
      "source": [
        "y = data['charges']\n",
        "X = data.drop(columns='charges')"
      ],
      "execution_count": null,
      "outputs": []
    },
    {
      "cell_type": "markdown",
      "metadata": {
        "id": "wp5IHKuGZuJl"
      },
      "source": [
        "## Calculamos matriz de correlación"
      ]
    },
    {
      "cell_type": "code",
      "metadata": {
        "colab": {
          "base_uri": "https://localhost:8080/"
        },
        "id": "6cx3C3ZpYnx9",
        "outputId": "fb12c3db-87f0-41ba-a34a-381e1e973100"
      },
      "source": [
        "plt.figure(figsize=(8,6));\n",
        "sns.heatmap(X.corr(), vmin=-1.0, vmax=1.0, center=0.0, annot=True, cmap='BrBG');"
      ],
      "execution_count": null,
      "outputs": [
        {
          "output_type": "display_data",
          "data": {
            "image/png": "[encoded data removed]",
            "text/plain": [
              "<Figure size 576x432 with 2 Axes>"
            ]
          },
          "metadata": {
            "needs_background": "light"
          }
        }
      ]
    },
    {
      "cell_type": "markdown",
      "metadata": {
        "id": "LXPa8QekYM6d"
      },
      "source": [
        "Calculamos esta matriz para saber la correlación entre las variables numéricas. Y podemos observar que no hay correlación significativa."
      ]
    },
    {
      "cell_type": "markdown",
      "metadata": {
        "id": "33h9xflNbEEq"
      },
      "source": [
        "## Scatter plot + histograms"
      ]
    },
    {
      "cell_type": "markdown",
      "metadata": {
        "id": "YENpocWJZG-1"
      },
      "source": [
        "Visualizamos el comportamiento de las variables numéricas entre ellas y la distribución de sus valores."
      ]
    },
    {
      "cell_type": "code",
      "metadata": {
        "colab": {
          "base_uri": "https://localhost:8080/"
        },
        "id": "P3Tc5YOaal6b",
        "outputId": "f9bee7e8-4fc4-4508-a381-9edfbd52bff4"
      },
      "source": [
        "sns.set_palette(\"CMRmap\")\n",
        "\n",
        "# Función para ocultar la diagonal superior\n",
        "def hide_current_axis(*args, **kwds):\n",
        "    plt.gca().set_visible(False)\n",
        "    \n",
        "eucalyptus_plot = sns.pairplot(X)\n",
        "eucalyptus_plot.map_upper(hide_current_axis)\n",
        "plt.show()"
      ],
      "execution_count": null,
      "outputs": [
        {
          "output_type": "display_data",
          "data": {
            "image/png": "[encoded data removed]",
            "text/plain": [
              "<Figure size 540x540 with 12 Axes>"
            ]
          },
          "metadata": {
            "needs_background": "light"
          }
        }
      ]
    },
    {
      "cell_type": "markdown",
      "metadata": {
        "id": "dMPqO3ppZT-F"
      },
      "source": [
        "Vemos que la distribuciones de edades tiene un pico para los más jóvenes (20 años) mientras que el resto es bastante parejo. Para el 'bmi' se puede observar una distribución gausseana, con una media en 30 confirmando lo que se observó anteriormente de las estadísticas del dataset. Con respecto a los hijos hay mayor cantidad de asegurados que no tienen hijos y para los que sí tienen hijos la relación es inversamente proporcional entre la cantidad de hijos y la cantidad de asegurados."
      ]
    },
    {
      "cell_type": "code",
      "metadata": {
        "colab": {
          "base_uri": "https://localhost:8080/"
        },
        "id": "vW1zpK3OqzZf",
        "outputId": "484ffeb9-f1d6-4a08-929e-c260a9cb99b3"
      },
      "source": [
        "sns.boxplot(data = data, x = 'smoker', y = 'charges')"
      ],
      "execution_count": null,
      "outputs": [
        {
          "output_type": "execute_result",
          "data": {
            "text/plain": [
              "<matplotlib.axes._subplots.AxesSubplot at 0x7f7e1c6cad90>"
            ]
          },
          "metadata": {},
          "execution_count": 48
        },
        {
          "output_type": "display_data",
          "data": {
            "image/png": "[encoded data removed]",
            "text/plain": [
              "<Figure size 432x288 with 1 Axes>"
            ]
          },
          "metadata": {
            "needs_background": "light"
          }
        }
      ]
    },
    {
      "cell_type": "markdown",
      "metadata": {
        "id": "UZnA-kJxaiS8"
      },
      "source": [
        "Graficamos la distribución de 'charges' sobre fumadores y no fumadores. Podemos visualizar que para los fumadores la media y los percentiles del 75 y 25 son mucho mayores que para los no fumadores y por lo tanto los costos son mayores. Además para los no fumadores vemos una gran cantidad de *outliers*."
      ]
    },
    {
      "cell_type": "markdown",
      "metadata": {
        "id": "EKkeLQgqR_iQ"
      },
      "source": [
        "# Primer Modelo"
      ]
    },
    {
      "cell_type": "markdown",
      "metadata": {
        "id": "hAVUA6v8d9t5"
      },
      "source": [
        "## Preprocesamiento"
      ]
    },
    {
      "cell_type": "markdown",
      "metadata": {
        "id": "CRbnL6B6KZTq"
      },
      "source": [
        "Vemos las distintas categorías para nuestras columnas feature categóricas."
      ]
    },
    {
      "cell_type": "code",
      "metadata": {
        "id": "u6-xXv9md_rZ",
        "colab": {
          "base_uri": "https://localhost:8080/"
        },
        "outputId": "2ed0a36d-102a-4fa9-afbd-b46027dd843d"
      },
      "source": [
        "print(X['region'].unique())\n",
        "print(X['smoker'].unique())\n",
        "print(X['sex'].unique())"
      ],
      "execution_count": null,
      "outputs": [
        {
          "output_type": "stream",
          "name": "stdout",
          "text": [
            "['southwest' 'southeast' 'northwest' 'northeast']\n",
            "['yes' 'no']\n",
            "['female' 'male']\n"
          ]
        }
      ]
    },
    {
      "cell_type": "markdown",
      "metadata": {
        "id": "w2Uje9OOKlgU"
      },
      "source": [
        "Convertimos las variables categóricas a dummies."
      ]
    },
    {
      "cell_type": "code",
      "metadata": {
        "colab": {
          "base_uri": "https://localhost:8080/",
          "height": 412
        },
        "id": "POLQ1wOPIoEp",
        "outputId": "e85f5e45-7981-4d81-9af5-98288dfafd31"
      },
      "source": [
        "X = pd.get_dummies(X, prefix=['is', 'smoker'], columns=['sex', 'smoker'], drop_first=True)\n",
        "X = pd.get_dummies(X, prefix=['from'], columns=['region'])\n",
        "X = X.rename(columns={'smoker_yes': 'is_smoker'})\n",
        "X"
      ],
      "execution_count": null,
      "outputs": [
        {
          "output_type": "execute_result",
          "data": {
            "text/html": [
              "<div>\n",
              "<style scoped>\n",
              "    .dataframe tbody tr th:only-of-type {\n",
              "        vertical-align: middle;\n",
              "    }\n",
              "\n",
              "    .dataframe tbody tr th {\n",
              "        vertical-align: top;\n",
              "    }\n",
              "\n",
              "    .dataframe thead th {\n",
              "        text-align: right;\n",
              "    }\n",
              "</style>\n",
              "<table border=\"1\" class=\"dataframe\">\n",
              "  <thead>\n",
              "    <tr style=\"text-align: right;\">\n",
              "      <th></th>\n",
              "      <th>age</th>\n",
              "      <th>bmi</th>\n",
              "      <th>children</th>\n",
              "      <th>is_male</th>\n",
              "      <th>is_smoker</th>\n",
              "      <th>from_northeast</th>\n",
              "      <th>from_northwest</th>\n",
              "      <th>from_southeast</th>\n",
              "      <th>from_southwest</th>\n",
              "    </tr>\n",
              "  </thead>\n",
              "  <tbody>\n",
              "    <tr>\n",
              "      <th>0</th>\n",
              "      <td>19</td>\n",
              "      <td>27.900</td>\n",
              "      <td>0</td>\n",
              "      <td>0</td>\n",
              "      <td>1</td>\n",
              "      <td>0</td>\n",
              "      <td>0</td>\n",
              "      <td>0</td>\n",
              "      <td>1</td>\n",
              "    </tr>\n",
              "    <tr>\n",
              "      <th>1</th>\n",
              "      <td>18</td>\n",
              "      <td>33.770</td>\n",
              "      <td>1</td>\n",
              "      <td>1</td>\n",
              "      <td>0</td>\n",
              "      <td>0</td>\n",
              "      <td>0</td>\n",
              "      <td>1</td>\n",
              "      <td>0</td>\n",
              "    </tr>\n",
              "    <tr>\n",
              "      <th>2</th>\n",
              "      <td>28</td>\n",
              "      <td>33.000</td>\n",
              "      <td>3</td>\n",
              "      <td>1</td>\n",
              "      <td>0</td>\n",
              "      <td>0</td>\n",
              "      <td>0</td>\n",
              "      <td>1</td>\n",
              "      <td>0</td>\n",
              "    </tr>\n",
              "    <tr>\n",
              "      <th>3</th>\n",
              "      <td>33</td>\n",
              "      <td>22.705</td>\n",
              "      <td>0</td>\n",
              "      <td>1</td>\n",
              "      <td>0</td>\n",
              "      <td>0</td>\n",
              "      <td>1</td>\n",
              "      <td>0</td>\n",
              "      <td>0</td>\n",
              "    </tr>\n",
              "    <tr>\n",
              "      <th>4</th>\n",
              "      <td>32</td>\n",
              "      <td>28.880</td>\n",
              "      <td>0</td>\n",
              "      <td>1</td>\n",
              "      <td>0</td>\n",
              "      <td>0</td>\n",
              "      <td>1</td>\n",
              "      <td>0</td>\n",
              "      <td>0</td>\n",
              "    </tr>\n",
              "    <tr>\n",
              "      <th>...</th>\n",
              "      <td>...</td>\n",
              "      <td>...</td>\n",
              "      <td>...</td>\n",
              "      <td>...</td>\n",
              "      <td>...</td>\n",
              "      <td>...</td>\n",
              "      <td>...</td>\n",
              "      <td>...</td>\n",
              "      <td>...</td>\n",
              "    </tr>\n",
              "    <tr>\n",
              "      <th>1333</th>\n",
              "      <td>50</td>\n",
              "      <td>30.970</td>\n",
              "      <td>3</td>\n",
              "      <td>1</td>\n",
              "      <td>0</td>\n",
              "      <td>0</td>\n",
              "      <td>1</td>\n",
              "      <td>0</td>\n",
              "      <td>0</td>\n",
              "    </tr>\n",
              "    <tr>\n",
              "      <th>1334</th>\n",
              "      <td>18</td>\n",
              "      <td>31.920</td>\n",
              "      <td>0</td>\n",
              "      <td>0</td>\n",
              "      <td>0</td>\n",
              "      <td>1</td>\n",
              "      <td>0</td>\n",
              "      <td>0</td>\n",
              "      <td>0</td>\n",
              "    </tr>\n",
              "    <tr>\n",
              "      <th>1335</th>\n",
              "      <td>18</td>\n",
              "      <td>36.850</td>\n",
              "      <td>0</td>\n",
              "      <td>0</td>\n",
              "      <td>0</td>\n",
              "      <td>0</td>\n",
              "      <td>0</td>\n",
              "      <td>1</td>\n",
              "      <td>0</td>\n",
              "    </tr>\n",
              "    <tr>\n",
              "      <th>1336</th>\n",
              "      <td>21</td>\n",
              "      <td>25.800</td>\n",
              "      <td>0</td>\n",
              "      <td>0</td>\n",
              "      <td>0</td>\n",
              "      <td>0</td>\n",
              "      <td>0</td>\n",
              "      <td>0</td>\n",
              "      <td>1</td>\n",
              "    </tr>\n",
              "    <tr>\n",
              "      <th>1337</th>\n",
              "      <td>61</td>\n",
              "      <td>29.070</td>\n",
              "      <td>0</td>\n",
              "      <td>0</td>\n",
              "      <td>1</td>\n",
              "      <td>0</td>\n",
              "      <td>1</td>\n",
              "      <td>0</td>\n",
              "      <td>0</td>\n",
              "    </tr>\n",
              "  </tbody>\n",
              "</table>\n",
              "<p>1338 rows × 9 columns</p>\n",
              "</div>"
            ],
            "text/plain": [
              "      age     bmi  children  ...  from_northwest  from_southeast  from_southwest\n",
              "0      19  27.900         0  ...               0               0               1\n",
              "1      18  33.770         1  ...               0               1               0\n",
              "2      28  33.000         3  ...               0               1               0\n",
              "3      33  22.705         0  ...               1               0               0\n",
              "4      32  28.880         0  ...               1               0               0\n",
              "...   ...     ...       ...  ...             ...             ...             ...\n",
              "1333   50  30.970         3  ...               1               0               0\n",
              "1334   18  31.920         0  ...               0               0               0\n",
              "1335   18  36.850         0  ...               0               1               0\n",
              "1336   21  25.800         0  ...               0               0               1\n",
              "1337   61  29.070         0  ...               1               0               0\n",
              "\n",
              "[1338 rows x 9 columns]"
            ]
          },
          "metadata": {},
          "execution_count": 50
        }
      ]
    },
    {
      "cell_type": "markdown",
      "metadata": {
        "id": "PfRP-LDvdSE5"
      },
      "source": [
        "### Particionado de datos para modelo"
      ]
    },
    {
      "cell_type": "code",
      "metadata": {
        "colab": {
          "base_uri": "https://localhost:8080/"
        },
        "id": "vz-jNYJlazUL",
        "outputId": "3da18899-c0ba-4ca1-a860-b11227b64508"
      },
      "source": [
        "# sacamos el 30% de las muestras para los datos de test\n",
        "X_trainval, X_test, y_trainval, y_test = train_test_split(X, y, test_size=0.3, random_state=1)\n",
        "# y repetimos ahora, pero sacando un 10% para los datos de validación\n",
        "X_train, X_val, y_train, y_val = train_test_split(X_trainval, y_trainval, test_size=0.1, random_state=10)\n",
        "# verificamos sus tamaños\n",
        "print('Training set size: {}'.format(X_train.shape))\n",
        "print('Validation set size: {}'.format(X_val.shape))\n",
        "print('Test set size: {}'.format(X_test.shape))"
      ],
      "execution_count": null,
      "outputs": [
        {
          "output_type": "stream",
          "name": "stdout",
          "text": [
            "Training set size: (842, 9)\n",
            "Validation set size: (94, 9)\n",
            "Test set size: (402, 9)\n"
          ]
        }
      ]
    },
    {
      "cell_type": "markdown",
      "metadata": {
        "id": "xQtGnzd2b-3Z"
      },
      "source": [
        "Hacemos una estandarización de los datos teniendo en cuenta la media y el desvío estándar. Luego de esta transformación la media será cero (0) y el desvío estándar será uno (1)."
      ]
    },
    {
      "cell_type": "code",
      "metadata": {
        "id": "HpjD4eNzOjN2"
      },
      "source": [
        "ct = ColumnTransformer([('transformer', StandardScaler(), ['age','bmi','children'])], remainder = 'passthrough')\n",
        "ct.fit(X_train)\n",
        "\n",
        "X_train = ct.transform(X_train)\n",
        "X_val = ct.transform(X_val)\n",
        "X_test = ct.transform(X_test)"
      ],
      "execution_count": null,
      "outputs": []
    },
    {
      "cell_type": "markdown",
      "metadata": {
        "id": "SWql8UMtaZOZ"
      },
      "source": [
        "## Modelado"
      ]
    },
    {
      "cell_type": "markdown",
      "metadata": {
        "id": "GSD2VkP9m60w"
      },
      "source": [
        "### Funciones auxiliares"
      ]
    },
    {
      "cell_type": "code",
      "metadata": {
        "id": "gRA52UnwgIM9"
      },
      "source": [
        "# Definimos función para realizar el fit con el randomizedSearch y obtener los\n",
        "# mejores hiperparámetros para el modelo.\n",
        "def cv_fit_get_best_and_rmse(cv, X_train, y_train, X_val, y_val):\n",
        "  cv.fit(X_train, y_train)\n",
        "  cv_best = cv.best_estimator_\n",
        "  y_pred = cv_best.predict(X_val)\n",
        "  RMSE = np.sqrt(mean_squared_error(y_pred, y_val))\n",
        "  return cv_best, cv.best_params_, RMSE\n",
        "\n",
        "def draw_feature_importance_graph(X, cv_best):\n",
        "  plt.bar(X.columns, cv_best.feature_importances_)\n",
        "  plt.xticks(ticks=np.arange(X.columns.size), labels=X.columns, rotation=90)\n",
        "  plt.title('Feature importance')\n",
        "  plt.xlabel('Features')\n",
        "  plt.ylabel('Feature importance')\n",
        "  plt.grid(True)\n",
        "  plt.show()\n",
        "\n",
        "def print_params_and_rmse(params, rmse):\n",
        "  print(\"Mejores hiperparámetros: {}\".format(params))\n",
        "  print(\"RMSE del mejor modelo sobre conjunto de validación: {} \\n\".format(rmse))"
      ],
      "execution_count": null,
      "outputs": []
    },
    {
      "cell_type": "markdown",
      "metadata": {
        "id": "13VH6j_NaggP"
      },
      "source": [
        "### Regresor lineal"
      ]
    },
    {
      "cell_type": "code",
      "metadata": {
        "colab": {
          "base_uri": "https://localhost:8080/"
        },
        "id": "o4-cfvEFacye",
        "outputId": "008104d8-9611-409c-d74d-96fb9dd69441"
      },
      "source": [
        "lr = LinearRegression()\n",
        "lr.fit(X_train, y_train)\n",
        "\n",
        "y_pred = lr.predict(X_val)\n",
        "\n",
        "RMSE = np.sqrt(mean_squared_error(y_pred, y_val))\n",
        "print(\"RMSE de regresor lineal sobre conjunto de validación: {}\".format(RMSE))"
      ],
      "execution_count": null,
      "outputs": [
        {
          "output_type": "stream",
          "name": "stdout",
          "text": [
            "RMSE de regresor lineal sobre conjunto de validación: 5764.451546922193\n"
          ]
        }
      ]
    },
    {
      "cell_type": "markdown",
      "metadata": {
        "id": "LsFP_N4thHmb"
      },
      "source": [
        "### Regresor Ridge"
      ]
    },
    {
      "cell_type": "code",
      "metadata": {
        "colab": {
          "base_uri": "https://localhost:8080/"
        },
        "id": "hYHyoA3Mce21",
        "outputId": "54403f28-fec6-4f51-9703-e01e56a600d0"
      },
      "source": [
        "ridge = Ridge() # fit_intercept=True, normalize=False es por dafault\n",
        "params = {'alpha': [0.0001, 0.01, 1.0, 10.0, 100.0, 10000]}\n",
        "ridge_cv = RandomizedSearchCV(ridge, params, cv= 5, n_iter=6)\n",
        "\n",
        "ridge_best, ridge_best_params, ridge_rmse = cv_fit_get_best_and_rmse(ridge_cv, X_train, y_train, X_val, y_val)\n",
        "print_params_and_rmse(ridge_best_params, ridge_rmse)"
      ],
      "execution_count": null,
      "outputs": [
        {
          "output_type": "stream",
          "name": "stdout",
          "text": [
            "Mejores hiperparámetros: {'alpha': 1.0}\n",
            "RMSE del mejor modelo sobre conjunto de validación: 5767.25744258812 \n",
            "\n"
          ]
        }
      ]
    },
    {
      "cell_type": "markdown",
      "metadata": {
        "id": "uZAMWkj8krUQ"
      },
      "source": [
        "## Test"
      ]
    },
    {
      "cell_type": "code",
      "metadata": {
        "colab": {
          "base_uri": "https://localhost:8080/"
        },
        "id": "MUKEuNJUktyO",
        "outputId": "3d782425-e019-450d-86ba-23f2a36fa684"
      },
      "source": [
        "y_pred = ridge_best.predict(X_test)\n",
        "RMSE = np.sqrt(mean_squared_error(y_pred, y_test))\n",
        "print(\"RMSE del mejor modelo sobre conjunto de testeo: {}\".format(RMSE))"
      ],
      "execution_count": null,
      "outputs": [
        {
          "output_type": "stream",
          "name": "stdout",
          "text": [
            "RMSE del mejor modelo sobre conjunto de testeo: 6077.99633328123\n"
          ]
        }
      ]
    },
    {
      "cell_type": "markdown",
      "metadata": {
        "id": "v0m6Jyexlo3E"
      },
      "source": [
        "## Conclusión de este modelo\n",
        "\n",
        "Viendo el resultado utilizando el modelo de Ridge, nos da un error medio cuadrático de 6077.99, lo que quiere decir, que nuestro modelo le está errando por una gran cantidad de dólares para un seguro anual, por lo tanto vamos a cambiar el preprocesamiento para intentar mejorar el modelo."
      ]
    },
    {
      "cell_type": "markdown",
      "metadata": {
        "id": "vtSUeMUyRxwK"
      },
      "source": [
        "# Segundo Modelo"
      ]
    },
    {
      "cell_type": "markdown",
      "metadata": {
        "id": "nCZ6Pxs4V39O"
      },
      "source": [
        "## Preprocesamiento"
      ]
    },
    {
      "cell_type": "markdown",
      "metadata": {
        "id": "4XyF97cAVIZv"
      },
      "source": [
        "Hacemos una nueva copia del dataset y lo dividimos extrayendo la columna de clases."
      ]
    },
    {
      "cell_type": "code",
      "metadata": {
        "id": "5VfBzufYULlw"
      },
      "source": [
        "data2 = original_data.copy()\n",
        "\n",
        "y = data2['charges']\n",
        "X = data2.drop(columns='charges')"
      ],
      "execution_count": null,
      "outputs": []
    },
    {
      "cell_type": "markdown",
      "metadata": {
        "id": "lTDhuNVtVUOC"
      },
      "source": [
        "Hacemos un get dummies con las columnas sex y smoker, y para la de regiones las mapeamos de 1 a 4. De esta forma no tenemos categorías divididas en varias columnas de One Hot Encoding y podemos probar con algoritmos basados en árboles."
      ]
    },
    {
      "cell_type": "code",
      "metadata": {
        "colab": {
          "base_uri": "https://localhost:8080/",
          "height": 412
        },
        "id": "kraph3NmRxd6",
        "outputId": "8afd5aa7-fb8a-4fef-f623-b20147f91104"
      },
      "source": [
        "X = pd.get_dummies(X, prefix=['is', 'smoker'], columns=['sex', 'smoker'], drop_first=True)\n",
        "X = X.rename(columns={'smoker_yes': 'is_smoker'})\n",
        "\n",
        "regions_mapping = {\n",
        "  'southwest': 1,\n",
        "  'southeast': 2,\n",
        "  'northwest': 3,\n",
        "  'northeast': 4\n",
        "}\n",
        "X['region'] = X['region'].map(regions_mapping)\n",
        "X"
      ],
      "execution_count": null,
      "outputs": [
        {
          "output_type": "execute_result",
          "data": {
            "text/html": [
              "<div>\n",
              "<style scoped>\n",
              "    .dataframe tbody tr th:only-of-type {\n",
              "        vertical-align: middle;\n",
              "    }\n",
              "\n",
              "    .dataframe tbody tr th {\n",
              "        vertical-align: top;\n",
              "    }\n",
              "\n",
              "    .dataframe thead th {\n",
              "        text-align: right;\n",
              "    }\n",
              "</style>\n",
              "<table border=\"1\" class=\"dataframe\">\n",
              "  <thead>\n",
              "    <tr style=\"text-align: right;\">\n",
              "      <th></th>\n",
              "      <th>age</th>\n",
              "      <th>bmi</th>\n",
              "      <th>children</th>\n",
              "      <th>region</th>\n",
              "      <th>is_male</th>\n",
              "      <th>is_smoker</th>\n",
              "    </tr>\n",
              "  </thead>\n",
              "  <tbody>\n",
              "    <tr>\n",
              "      <th>0</th>\n",
              "      <td>19</td>\n",
              "      <td>27.900</td>\n",
              "      <td>0</td>\n",
              "      <td>1</td>\n",
              "      <td>0</td>\n",
              "      <td>1</td>\n",
              "    </tr>\n",
              "    <tr>\n",
              "      <th>1</th>\n",
              "      <td>18</td>\n",
              "      <td>33.770</td>\n",
              "      <td>1</td>\n",
              "      <td>2</td>\n",
              "      <td>1</td>\n",
              "      <td>0</td>\n",
              "    </tr>\n",
              "    <tr>\n",
              "      <th>2</th>\n",
              "      <td>28</td>\n",
              "      <td>33.000</td>\n",
              "      <td>3</td>\n",
              "      <td>2</td>\n",
              "      <td>1</td>\n",
              "      <td>0</td>\n",
              "    </tr>\n",
              "    <tr>\n",
              "      <th>3</th>\n",
              "      <td>33</td>\n",
              "      <td>22.705</td>\n",
              "      <td>0</td>\n",
              "      <td>3</td>\n",
              "      <td>1</td>\n",
              "      <td>0</td>\n",
              "    </tr>\n",
              "    <tr>\n",
              "      <th>4</th>\n",
              "      <td>32</td>\n",
              "      <td>28.880</td>\n",
              "      <td>0</td>\n",
              "      <td>3</td>\n",
              "      <td>1</td>\n",
              "      <td>0</td>\n",
              "    </tr>\n",
              "    <tr>\n",
              "      <th>...</th>\n",
              "      <td>...</td>\n",
              "      <td>...</td>\n",
              "      <td>...</td>\n",
              "      <td>...</td>\n",
              "      <td>...</td>\n",
              "      <td>...</td>\n",
              "    </tr>\n",
              "    <tr>\n",
              "      <th>1333</th>\n",
              "      <td>50</td>\n",
              "      <td>30.970</td>\n",
              "      <td>3</td>\n",
              "      <td>3</td>\n",
              "      <td>1</td>\n",
              "      <td>0</td>\n",
              "    </tr>\n",
              "    <tr>\n",
              "      <th>1334</th>\n",
              "      <td>18</td>\n",
              "      <td>31.920</td>\n",
              "      <td>0</td>\n",
              "      <td>4</td>\n",
              "      <td>0</td>\n",
              "      <td>0</td>\n",
              "    </tr>\n",
              "    <tr>\n",
              "      <th>1335</th>\n",
              "      <td>18</td>\n",
              "      <td>36.850</td>\n",
              "      <td>0</td>\n",
              "      <td>2</td>\n",
              "      <td>0</td>\n",
              "      <td>0</td>\n",
              "    </tr>\n",
              "    <tr>\n",
              "      <th>1336</th>\n",
              "      <td>21</td>\n",
              "      <td>25.800</td>\n",
              "      <td>0</td>\n",
              "      <td>1</td>\n",
              "      <td>0</td>\n",
              "      <td>0</td>\n",
              "    </tr>\n",
              "    <tr>\n",
              "      <th>1337</th>\n",
              "      <td>61</td>\n",
              "      <td>29.070</td>\n",
              "      <td>0</td>\n",
              "      <td>3</td>\n",
              "      <td>0</td>\n",
              "      <td>1</td>\n",
              "    </tr>\n",
              "  </tbody>\n",
              "</table>\n",
              "<p>1338 rows × 6 columns</p>\n",
              "</div>"
            ],
            "text/plain": [
              "      age     bmi  children  region  is_male  is_smoker\n",
              "0      19  27.900         0       1        0          1\n",
              "1      18  33.770         1       2        1          0\n",
              "2      28  33.000         3       2        1          0\n",
              "3      33  22.705         0       3        1          0\n",
              "4      32  28.880         0       3        1          0\n",
              "...   ...     ...       ...     ...      ...        ...\n",
              "1333   50  30.970         3       3        1          0\n",
              "1334   18  31.920         0       4        0          0\n",
              "1335   18  36.850         0       2        0          0\n",
              "1336   21  25.800         0       1        0          0\n",
              "1337   61  29.070         0       3        0          1\n",
              "\n",
              "[1338 rows x 6 columns]"
            ]
          },
          "metadata": {},
          "execution_count": 60
        }
      ]
    },
    {
      "cell_type": "markdown",
      "metadata": {
        "id": "66BlfyM8Vua8"
      },
      "source": [
        "### Particionado de datos para modelo"
      ]
    },
    {
      "cell_type": "code",
      "metadata": {
        "colab": {
          "base_uri": "https://localhost:8080/"
        },
        "id": "UmjtxBH8Vua9",
        "outputId": "a9820e0a-367b-40a2-ae20-9ec5f4fdd16d"
      },
      "source": [
        "# sacamos el 30% de las muestras para los datos de test\n",
        "X_trainval, X_test, y_trainval, y_test = train_test_split(X, y, test_size=0.3, random_state=1)\n",
        "# y repetimos ahora, pero sacando un 10% para los datos de validación\n",
        "X_train, X_val, y_train, y_val = train_test_split(X_trainval, y_trainval, test_size=0.1, random_state=10)\n",
        "# verificamos sus tamaños\n",
        "print('Training set size: {}'.format(X_train.shape))\n",
        "print('Validation set size: {}'.format(X_val.shape))\n",
        "print('Test set size: {}'.format(X_test.shape))"
      ],
      "execution_count": null,
      "outputs": [
        {
          "output_type": "stream",
          "name": "stdout",
          "text": [
            "Training set size: (842, 6)\n",
            "Validation set size: (94, 6)\n",
            "Test set size: (402, 6)\n"
          ]
        }
      ]
    },
    {
      "cell_type": "markdown",
      "metadata": {
        "id": "XwJu8tenVua9"
      },
      "source": [
        "Hacemos una estandarización de los datos teniendo en cuenta la media y el desvío estándar. Luego de esta transformación la media será cero (0) y el desvío estándar será uno (1)."
      ]
    },
    {
      "cell_type": "code",
      "metadata": {
        "id": "mG5yjUNnVua-"
      },
      "source": [
        "ct = ColumnTransformer([('transformer', StandardScaler(), ['age','bmi','children'])], remainder = 'passthrough')\n",
        "ct.fit(X_train)\n",
        "\n",
        "X_train = ct.transform(X_train)\n",
        "X_val = ct.transform(X_val)\n",
        "X_test = ct.transform(X_test)"
      ],
      "execution_count": null,
      "outputs": []
    },
    {
      "cell_type": "markdown",
      "metadata": {
        "id": "K_oNkNy9WMcI"
      },
      "source": [
        "## Modelado"
      ]
    },
    {
      "cell_type": "markdown",
      "metadata": {
        "id": "ta4KSvOMWMcK"
      },
      "source": [
        "### Regresor lineal"
      ]
    },
    {
      "cell_type": "code",
      "metadata": {
        "colab": {
          "base_uri": "https://localhost:8080/"
        },
        "id": "DzLkskRbWMcK",
        "outputId": "1bd77b68-8333-4187-b620-ea7bdfe4ffb0"
      },
      "source": [
        "lr = LinearRegression()\n",
        "lr.fit(X_train, y_train)\n",
        "\n",
        "y_pred = lr.predict(X_val)\n",
        "\n",
        "RMSE = np.sqrt(mean_squared_error(y_pred, y_val))\n",
        "print(\"RMSE de regresor lineal sobre conjunto de validación: {}\".format(RMSE))"
      ],
      "execution_count": null,
      "outputs": [
        {
          "output_type": "stream",
          "name": "stdout",
          "text": [
            "RMSE de regresor lineal sobre conjunto de validación: 5773.82117766183\n"
          ]
        }
      ]
    },
    {
      "cell_type": "markdown",
      "metadata": {
        "id": "u170Y1lsWMcM"
      },
      "source": [
        "### Regresor Ridge"
      ]
    },
    {
      "cell_type": "code",
      "metadata": {
        "colab": {
          "base_uri": "https://localhost:8080/"
        },
        "id": "0TB6dKriWMcM",
        "outputId": "bb36b55f-0d41-4429-d6e9-c518a7760b17"
      },
      "source": [
        "ridge = Ridge() # fit_intercept=True, normalize=False es por dafault\n",
        "params = {'alpha': [0.0001, 0.01, 1.0, 10.0, 100.0, 10000]}\n",
        "ridge_cv = RandomizedSearchCV(ridge, params, cv= 5, n_iter=6)\n",
        "\n",
        "ridge_best, ridge_best_params, ridge_rmse = cv_fit_get_best_and_rmse(ridge_cv, X_train, y_train, X_val, y_val)\n",
        "print_params_and_rmse(ridge_best_params, ridge_rmse)"
      ],
      "execution_count": null,
      "outputs": [
        {
          "output_type": "stream",
          "name": "stdout",
          "text": [
            "Mejores hiperparámetros: {'alpha': 1.0}\n",
            "RMSE del mejor modelo sobre conjunto de validación: 5767.25744258812 \n",
            "\n"
          ]
        }
      ]
    },
    {
      "cell_type": "markdown",
      "metadata": {
        "id": "uwzya3N8WMcM"
      },
      "source": [
        "### Regresor Random Forest"
      ]
    },
    {
      "cell_type": "code",
      "metadata": {
        "colab": {
          "base_uri": "https://localhost:8080/",
          "height": 387
        },
        "id": "Wt3fzWvmWMcN",
        "outputId": "c284c801-73bc-493c-b001-4c44f48f293e"
      },
      "source": [
        "rf = RandomForestRegressor()\n",
        "params = {'n_estimators': [50, 100, 200, 300, 400, 500, 1000]}\n",
        "rf_cv = RandomizedSearchCV(rf, params, cv= 5, n_iter=7)\n",
        "\n",
        "rf_best, rf_best_params, rf_rmse = cv_fit_get_best_and_rmse(rf_cv, X_train, y_train, X_val, y_val)\n",
        "print_params_and_rmse(rf_best_params, rf_rmse)\n",
        "draw_feature_importance_graph(X, rf_best)"
      ],
      "execution_count": null,
      "outputs": [
        {
          "output_type": "stream",
          "name": "stdout",
          "text": [
            "Mejores hiperparámetros: {'n_estimators': 1000}\n",
            "RMSE del mejor modelo sobre conjunto de validación: 3767.968000680312 \n",
            "\n"
          ]
        },
        {
          "output_type": "display_data",
          "data": {
            "image/png": "[encoded data removed]",
            "text/plain": [
              "<Figure size 432x288 with 1 Axes>"
            ]
          },
          "metadata": {
            "needs_background": "light"
          }
        }
      ]
    },
    {
      "cell_type": "markdown",
      "metadata": {
        "id": "xMb0pf3hWMcN"
      },
      "source": [
        "### Regresor Gradient Boosting"
      ]
    },
    {
      "cell_type": "code",
      "metadata": {
        "colab": {
          "base_uri": "https://localhost:8080/",
          "height": 387
        },
        "id": "umMJgxVcWMcN",
        "outputId": "0bb4c187-ed0d-481d-dba5-d40d2d71a1f3"
      },
      "source": [
        "gbt = GradientBoostingRegressor()\n",
        "params = {'n_estimators': [10, 50, 100, 200, 300]}\n",
        "gbt_cv = RandomizedSearchCV(gbt, params, cv = 5, n_iter=5)\n",
        "\n",
        "gbt_best, gbt_best_params, gbt_rmse = cv_fit_get_best_and_rmse(gbt_cv, X_train, y_train, X_val, y_val)\n",
        "print_params_and_rmse(gbt_best_params, gbt_rmse)\n",
        "draw_feature_importance_graph(X, gbt_best)"
      ],
      "execution_count": null,
      "outputs": [
        {
          "output_type": "stream",
          "name": "stdout",
          "text": [
            "Mejores hiperparámetros: {'n_estimators': 50}\n",
            "RMSE del mejor modelo sobre conjunto de validación: 3275.8936311645134 \n",
            "\n"
          ]
        },
        {
          "output_type": "display_data",
          "data": {
            "image/png": "[encoded data removed]",
            "text/plain": [
              "<Figure size 432x288 with 1 Axes>"
            ]
          },
          "metadata": {
            "needs_background": "light"
          }
        }
      ]
    },
    {
      "cell_type": "markdown",
      "metadata": {
        "id": "hIBr-HNvWMcO"
      },
      "source": [
        "## Test"
      ]
    },
    {
      "cell_type": "code",
      "metadata": {
        "colab": {
          "base_uri": "https://localhost:8080/"
        },
        "id": "GTTWmUX6WMcO",
        "outputId": "f2c99ed0-c220-4b7f-f2f5-456f18d94fee"
      },
      "source": [
        "y_pred = gbt_best.predict(X_test)\n",
        "RMSE = np.sqrt(mean_squared_error(y_pred, y_test))\n",
        "print(\"RMSE del mejor modelo sobre conjunto de testeo: {}\".format(RMSE))"
      ],
      "execution_count": null,
      "outputs": [
        {
          "output_type": "stream",
          "name": "stdout",
          "text": [
            "RMSE del mejor modelo sobre conjunto de testeo: 4394.273817072628\n"
          ]
        }
      ]
    },
    {
      "cell_type": "markdown",
      "metadata": {
        "id": "Nmx5iGNDXPUM"
      },
      "source": [
        "# Conclusión general\n",
        "\n",
        "Se hicieron dos preprocesamientos distintos, esperando mejoras para el segundo modelo. En el segundo modelo al no haber encodeado las variables categoricas en dummies, solo las que eran de dos categorías, fue posible aplicar árboles algoritmos basados en árboles. Esto mostró una gran mejora en el modelo. El mejor modelo fue al entrenar con Gradient Boosted Trees, obteniendo un RMSE total de 4394.27. De todos modos, este sigue siendo un número elevado."
      ]
    }
  ]
}